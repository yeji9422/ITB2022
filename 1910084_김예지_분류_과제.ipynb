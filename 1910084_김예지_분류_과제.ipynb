{
  "nbformat": 4,
  "nbformat_minor": 0,
  "metadata": {
    "kernelspec": {
      "display_name": "Python 3",
      "language": "python",
      "name": "python3"
    },
    "language_info": {
      "codemirror_mode": {
        "name": "ipython",
        "version": 3
      },
      "file_extension": ".py",
      "mimetype": "text/x-python",
      "name": "python",
      "nbconvert_exporter": "python",
      "pygments_lexer": "ipython3",
      "version": "3.8.5"
    },
    "colab": {
      "provenance": [],
      "toc_visible": true,
      "include_colab_link": true
    }
  },
  "cells": [
    {
      "cell_type": "markdown",
      "metadata": {
        "id": "view-in-github",
        "colab_type": "text"
      },
      "source": [
        "<a href=\"https://colab.research.google.com/github/yeji9422/ITB2022/blob/main/1910084_%EA%B9%80%EC%98%88%EC%A7%80_%EB%B6%84%EB%A5%98_%EA%B3%BC%EC%A0%9C.ipynb\" target=\"_parent\"><img src=\"https://colab.research.google.com/assets/colab-badge.svg\" alt=\"Open In Colab\"/></a>"
      ]
    },
    {
      "cell_type": "markdown",
      "source": [
        "# **분류 목표: 변수를 사용하여 여성/남성 구분하기**\n",
        "-분류모델: 의사결정나무, 랜덤포레스트, 그래디언트 부스팅 \n",
        "\n",
        "-분류모델 평가: 교차검증"
      ],
      "metadata": {
        "id": "DOsWw-D6P3YI"
      }
    },
    {
      "cell_type": "markdown",
      "source": [
        "## **1. 한글 및 패키지 설치, 데이터 불러오기**"
      ],
      "metadata": {
        "id": "cFdy48EhP4dj"
      }
    },
    {
      "cell_type": "code",
      "source": [
        "!sudo apt-get install -y fonts-nanum\n",
        "!sudo fc-cache -fv\n",
        "!rm ~/.cache/matplotlib -rf"
      ],
      "metadata": {
        "id": "Tn58MmK_1XtH",
        "colab": {
          "base_uri": "https://localhost:8080/"
        },
        "outputId": "9ba98c6e-5474-49b2-ac0d-de8039fa2aa5"
      },
      "execution_count": 1,
      "outputs": [
        {
          "output_type": "stream",
          "name": "stdout",
          "text": [
            "Reading package lists... Done\n",
            "Building dependency tree       \n",
            "Reading state information... Done\n",
            "fonts-nanum is already the newest version (20170925-1).\n",
            "The following package was automatically installed and is no longer required:\n",
            "  libnvidia-common-460\n",
            "Use 'sudo apt autoremove' to remove it.\n",
            "0 upgraded, 0 newly installed, 0 to remove and 5 not upgraded.\n",
            "/usr/share/fonts: caching, new cache contents: 0 fonts, 1 dirs\n",
            "/usr/share/fonts/truetype: caching, new cache contents: 0 fonts, 3 dirs\n",
            "/usr/share/fonts/truetype/humor-sans: caching, new cache contents: 1 fonts, 0 dirs\n",
            "/usr/share/fonts/truetype/liberation: caching, new cache contents: 16 fonts, 0 dirs\n",
            "/usr/share/fonts/truetype/nanum: caching, new cache contents: 10 fonts, 0 dirs\n",
            "/usr/local/share/fonts: caching, new cache contents: 0 fonts, 0 dirs\n",
            "/root/.local/share/fonts: skipping, no such directory\n",
            "/root/.fonts: skipping, no such directory\n",
            "/var/cache/fontconfig: cleaning cache directory\n",
            "/root/.cache/fontconfig: not cleaning non-existent cache directory\n",
            "/root/.fontconfig: not cleaning non-existent cache directory\n",
            "fc-cache: succeeded\n"
          ]
        }
      ]
    },
    {
      "cell_type": "code",
      "source": [
        "import matplotlib.pyplot as plt\n",
        "\n",
        "plt.rc('font', family='NanumBarunGothic') "
      ],
      "metadata": {
        "id": "gvWbfj3tc66i"
      },
      "execution_count": 2,
      "outputs": []
    },
    {
      "cell_type": "code",
      "source": [
        "!pip install --upgrade joblib==1.1.0"
      ],
      "metadata": {
        "id": "EBFkMJyW1n9p",
        "colab": {
          "base_uri": "https://localhost:8080/"
        },
        "outputId": "78c1199d-3bcb-465d-9283-d87edeee7e2d"
      },
      "execution_count": 3,
      "outputs": [
        {
          "output_type": "stream",
          "name": "stdout",
          "text": [
            "Looking in indexes: https://pypi.org/simple, https://us-python.pkg.dev/colab-wheels/public/simple/\n",
            "Requirement already satisfied: joblib==1.1.0 in /usr/local/lib/python3.7/dist-packages (1.1.0)\n"
          ]
        }
      ]
    },
    {
      "cell_type": "code",
      "source": [
        "!pip install mglearn"
      ],
      "metadata": {
        "id": "PKNgFtux1qaq",
        "colab": {
          "base_uri": "https://localhost:8080/"
        },
        "outputId": "1afd83fa-8d94-404e-88ea-afdf2ad6e00b"
      },
      "execution_count": 4,
      "outputs": [
        {
          "output_type": "stream",
          "name": "stdout",
          "text": [
            "Looking in indexes: https://pypi.org/simple, https://us-python.pkg.dev/colab-wheels/public/simple/\n",
            "Requirement already satisfied: mglearn in /usr/local/lib/python3.7/dist-packages (0.1.9)\n",
            "Requirement already satisfied: imageio in /usr/local/lib/python3.7/dist-packages (from mglearn) (2.9.0)\n",
            "Requirement already satisfied: pandas in /usr/local/lib/python3.7/dist-packages (from mglearn) (1.3.5)\n",
            "Requirement already satisfied: pillow in /usr/local/lib/python3.7/dist-packages (from mglearn) (7.1.2)\n",
            "Requirement already satisfied: numpy in /usr/local/lib/python3.7/dist-packages (from mglearn) (1.21.6)\n",
            "Requirement already satisfied: matplotlib in /usr/local/lib/python3.7/dist-packages (from mglearn) (3.2.2)\n",
            "Requirement already satisfied: scikit-learn in /usr/local/lib/python3.7/dist-packages (from mglearn) (1.0.2)\n",
            "Requirement already satisfied: cycler in /usr/local/lib/python3.7/dist-packages (from mglearn) (0.11.0)\n",
            "Requirement already satisfied: joblib in /usr/local/lib/python3.7/dist-packages (from mglearn) (1.1.0)\n",
            "Requirement already satisfied: pyparsing!=2.0.4,!=2.1.2,!=2.1.6,>=2.0.1 in /usr/local/lib/python3.7/dist-packages (from matplotlib->mglearn) (3.0.9)\n",
            "Requirement already satisfied: kiwisolver>=1.0.1 in /usr/local/lib/python3.7/dist-packages (from matplotlib->mglearn) (1.4.4)\n",
            "Requirement already satisfied: python-dateutil>=2.1 in /usr/local/lib/python3.7/dist-packages (from matplotlib->mglearn) (2.8.2)\n",
            "Requirement already satisfied: typing-extensions in /usr/local/lib/python3.7/dist-packages (from kiwisolver>=1.0.1->matplotlib->mglearn) (4.1.1)\n",
            "Requirement already satisfied: six>=1.5 in /usr/local/lib/python3.7/dist-packages (from python-dateutil>=2.1->matplotlib->mglearn) (1.15.0)\n",
            "Requirement already satisfied: pytz>=2017.3 in /usr/local/lib/python3.7/dist-packages (from pandas->mglearn) (2022.6)\n",
            "Requirement already satisfied: scipy>=1.1.0 in /usr/local/lib/python3.7/dist-packages (from scikit-learn->mglearn) (1.7.3)\n",
            "Requirement already satisfied: threadpoolctl>=2.0.0 in /usr/local/lib/python3.7/dist-packages (from scikit-learn->mglearn) (3.1.0)\n"
          ]
        }
      ]
    },
    {
      "cell_type": "code",
      "source": [
        "import mglearn "
      ],
      "metadata": {
        "id": "NVjYLLpf1sfd"
      },
      "execution_count": 5,
      "outputs": []
    },
    {
      "cell_type": "code",
      "source": [
        "from google.colab import drive\n",
        "drive.mount('/content/drive')"
      ],
      "metadata": {
        "id": "iBkiUWst1t36",
        "colab": {
          "base_uri": "https://localhost:8080/"
        },
        "outputId": "748acaef-df56-4eca-9cd2-86771c4928ce"
      },
      "execution_count": 6,
      "outputs": [
        {
          "output_type": "stream",
          "name": "stdout",
          "text": [
            "Drive already mounted at /content/drive; to attempt to forcibly remount, call drive.mount(\"/content/drive\", force_remount=True).\n"
          ]
        }
      ]
    },
    {
      "cell_type": "code",
      "source": [
        "%matplotlib inline\n",
        "import pandas as pd\n",
        "import seaborn as sns          \n",
        "import matplotlib.pyplot as plt"
      ],
      "metadata": {
        "id": "WZw5EEQ21vRM"
      },
      "execution_count": 7,
      "outputs": []
    },
    {
      "cell_type": "code",
      "source": [
        "health2 = pd.read_csv(\"/content/drive/My Drive/Colab Notebooks/ITB/health.csv\")\n",
        "\n",
        "print(health2.columns)\n",
        "display(health2.info())      \n",
        "display(health2.head())     "
      ],
      "metadata": {
        "id": "hNjTIc1k1wte",
        "colab": {
          "base_uri": "https://localhost:8080/",
          "height": 1000
        },
        "outputId": "a305a32b-a2f4-4aec-e9db-b709d9e42791"
      },
      "execution_count": 8,
      "outputs": [
        {
          "output_type": "stream",
          "name": "stdout",
          "text": [
            "Index(['기준년도', '가입자일련번호', '시도코드', '성별코드', '연령대코드(5세단위)', '신장(5Cm단위)',\n",
            "       '체중(5Kg 단위)', '허리둘레', '시력(좌)', '시력(우)', '청력(좌)', '청력(우)', '수축기혈압',\n",
            "       '이완기혈압', '식전혈당(공복혈당)', '총콜레스테롤', '트리글리세라이드', 'HDL콜레스테롤', 'LDL콜레스테롤',\n",
            "       '혈색소', '요단백', '혈청크레아티닌', '(혈청지오티)AST', '(혈청지오티)ALT', '감마지티피', '흡연상태',\n",
            "       '음주여부', '구강검진수검여부', '치아우식증유무', '치석', '데이터공개일자'],\n",
            "      dtype='object')\n",
            "<class 'pandas.core.frame.DataFrame'>\n",
            "RangeIndex: 10000 entries, 0 to 9999\n",
            "Data columns (total 31 columns):\n",
            " #   Column       Non-Null Count  Dtype  \n",
            "---  ------       --------------  -----  \n",
            " 0   기준년도         10000 non-null  int64  \n",
            " 1   가입자일련번호      10000 non-null  int64  \n",
            " 2   시도코드         10000 non-null  int64  \n",
            " 3   성별코드         10000 non-null  object \n",
            " 4   연령대코드(5세단위)  10000 non-null  int64  \n",
            " 5   신장(5Cm단위)    10000 non-null  int64  \n",
            " 6   체중(5Kg 단위)   10000 non-null  int64  \n",
            " 7   허리둘레         10000 non-null  float64\n",
            " 8   시력(좌)        10000 non-null  float64\n",
            " 9   시력(우)        10000 non-null  float64\n",
            " 10  청력(좌)        10000 non-null  int64  \n",
            " 11  청력(우)        10000 non-null  int64  \n",
            " 12  수축기혈압        9912 non-null   float64\n",
            " 13  이완기혈압        9912 non-null   float64\n",
            " 14  식전혈당(공복혈당)   9912 non-null   float64\n",
            " 15  총콜레스테롤       4044 non-null   float64\n",
            " 16  트리글리세라이드     4044 non-null   float64\n",
            " 17  HDL콜레스테롤     4044 non-null   float64\n",
            " 18  LDL콜레스테롤     3977 non-null   float64\n",
            " 19  혈색소          9912 non-null   float64\n",
            " 20  요단백          9861 non-null   float64\n",
            " 21  혈청크레아티닌      9912 non-null   float64\n",
            " 22  (혈청지오티)AST   9912 non-null   float64\n",
            " 23  (혈청지오티)ALT   9912 non-null   float64\n",
            " 24  감마지티피        9912 non-null   float64\n",
            " 25  흡연상태         9998 non-null   object \n",
            " 26  음주여부         9999 non-null   object \n",
            " 27  구강검진수검여부     10000 non-null  int64  \n",
            " 28  치아우식증유무      3251 non-null   float64\n",
            " 29  치석           3251 non-null   float64\n",
            " 30  데이터공개일자      10000 non-null  object \n",
            "dtypes: float64(18), int64(9), object(4)\n",
            "memory usage: 2.4+ MB\n"
          ]
        },
        {
          "output_type": "display_data",
          "data": {
            "text/plain": [
              "None"
            ]
          },
          "metadata": {}
        },
        {
          "output_type": "display_data",
          "data": {
            "text/plain": [
              "   기준년도  가입자일련번호  시도코드 성별코드  연령대코드(5세단위)  신장(5Cm단위)  체중(5Kg 단위)  허리둘레  시력(좌)  \\\n",
              "0  2020        1    36    M            9        165          60  72.1    1.2   \n",
              "1  2020        2    27    F           13        150          65  81.0    0.8   \n",
              "2  2020        3    11    F           12        155          55  70.0    0.6   \n",
              "3  2020        4    31    M           13        160          70  90.8    1.0   \n",
              "4  2020        5    41    F           12        155          50  75.2    1.5   \n",
              "\n",
              "   시력(우)  ...  혈청크레아티닌  (혈청지오티)AST  (혈청지오티)ALT  감마지티피  흡연상태  음주여부  구강검진수검여부  \\\n",
              "0    1.5  ...      1.1        21.0        27.0   21.0    No    No         0   \n",
              "1    0.8  ...      0.5        18.0        15.0   15.0    No    No         0   \n",
              "2    0.7  ...      0.7        27.0        25.0    7.0    No    No         0   \n",
              "3    1.0  ...      1.2        65.0        97.0   72.0    No    No         1   \n",
              "4    1.2  ...      0.7        18.0        17.0   14.0    No    No         0   \n",
              "\n",
              "   치아우식증유무   치석     데이터공개일자  \n",
              "0      NaN  NaN  12/29/2021  \n",
              "1      NaN  NaN  12/29/2021  \n",
              "2      NaN  NaN  12/29/2021  \n",
              "3      0.0  0.0  12/29/2021  \n",
              "4      NaN  NaN  12/29/2021  \n",
              "\n",
              "[5 rows x 31 columns]"
            ],
            "text/html": [
              "\n",
              "  <div id=\"df-064b1271-e048-4abe-aa5f-82d74371a5e7\">\n",
              "    <div class=\"colab-df-container\">\n",
              "      <div>\n",
              "<style scoped>\n",
              "    .dataframe tbody tr th:only-of-type {\n",
              "        vertical-align: middle;\n",
              "    }\n",
              "\n",
              "    .dataframe tbody tr th {\n",
              "        vertical-align: top;\n",
              "    }\n",
              "\n",
              "    .dataframe thead th {\n",
              "        text-align: right;\n",
              "    }\n",
              "</style>\n",
              "<table border=\"1\" class=\"dataframe\">\n",
              "  <thead>\n",
              "    <tr style=\"text-align: right;\">\n",
              "      <th></th>\n",
              "      <th>기준년도</th>\n",
              "      <th>가입자일련번호</th>\n",
              "      <th>시도코드</th>\n",
              "      <th>성별코드</th>\n",
              "      <th>연령대코드(5세단위)</th>\n",
              "      <th>신장(5Cm단위)</th>\n",
              "      <th>체중(5Kg 단위)</th>\n",
              "      <th>허리둘레</th>\n",
              "      <th>시력(좌)</th>\n",
              "      <th>시력(우)</th>\n",
              "      <th>...</th>\n",
              "      <th>혈청크레아티닌</th>\n",
              "      <th>(혈청지오티)AST</th>\n",
              "      <th>(혈청지오티)ALT</th>\n",
              "      <th>감마지티피</th>\n",
              "      <th>흡연상태</th>\n",
              "      <th>음주여부</th>\n",
              "      <th>구강검진수검여부</th>\n",
              "      <th>치아우식증유무</th>\n",
              "      <th>치석</th>\n",
              "      <th>데이터공개일자</th>\n",
              "    </tr>\n",
              "  </thead>\n",
              "  <tbody>\n",
              "    <tr>\n",
              "      <th>0</th>\n",
              "      <td>2020</td>\n",
              "      <td>1</td>\n",
              "      <td>36</td>\n",
              "      <td>M</td>\n",
              "      <td>9</td>\n",
              "      <td>165</td>\n",
              "      <td>60</td>\n",
              "      <td>72.1</td>\n",
              "      <td>1.2</td>\n",
              "      <td>1.5</td>\n",
              "      <td>...</td>\n",
              "      <td>1.1</td>\n",
              "      <td>21.0</td>\n",
              "      <td>27.0</td>\n",
              "      <td>21.0</td>\n",
              "      <td>No</td>\n",
              "      <td>No</td>\n",
              "      <td>0</td>\n",
              "      <td>NaN</td>\n",
              "      <td>NaN</td>\n",
              "      <td>12/29/2021</td>\n",
              "    </tr>\n",
              "    <tr>\n",
              "      <th>1</th>\n",
              "      <td>2020</td>\n",
              "      <td>2</td>\n",
              "      <td>27</td>\n",
              "      <td>F</td>\n",
              "      <td>13</td>\n",
              "      <td>150</td>\n",
              "      <td>65</td>\n",
              "      <td>81.0</td>\n",
              "      <td>0.8</td>\n",
              "      <td>0.8</td>\n",
              "      <td>...</td>\n",
              "      <td>0.5</td>\n",
              "      <td>18.0</td>\n",
              "      <td>15.0</td>\n",
              "      <td>15.0</td>\n",
              "      <td>No</td>\n",
              "      <td>No</td>\n",
              "      <td>0</td>\n",
              "      <td>NaN</td>\n",
              "      <td>NaN</td>\n",
              "      <td>12/29/2021</td>\n",
              "    </tr>\n",
              "    <tr>\n",
              "      <th>2</th>\n",
              "      <td>2020</td>\n",
              "      <td>3</td>\n",
              "      <td>11</td>\n",
              "      <td>F</td>\n",
              "      <td>12</td>\n",
              "      <td>155</td>\n",
              "      <td>55</td>\n",
              "      <td>70.0</td>\n",
              "      <td>0.6</td>\n",
              "      <td>0.7</td>\n",
              "      <td>...</td>\n",
              "      <td>0.7</td>\n",
              "      <td>27.0</td>\n",
              "      <td>25.0</td>\n",
              "      <td>7.0</td>\n",
              "      <td>No</td>\n",
              "      <td>No</td>\n",
              "      <td>0</td>\n",
              "      <td>NaN</td>\n",
              "      <td>NaN</td>\n",
              "      <td>12/29/2021</td>\n",
              "    </tr>\n",
              "    <tr>\n",
              "      <th>3</th>\n",
              "      <td>2020</td>\n",
              "      <td>4</td>\n",
              "      <td>31</td>\n",
              "      <td>M</td>\n",
              "      <td>13</td>\n",
              "      <td>160</td>\n",
              "      <td>70</td>\n",
              "      <td>90.8</td>\n",
              "      <td>1.0</td>\n",
              "      <td>1.0</td>\n",
              "      <td>...</td>\n",
              "      <td>1.2</td>\n",
              "      <td>65.0</td>\n",
              "      <td>97.0</td>\n",
              "      <td>72.0</td>\n",
              "      <td>No</td>\n",
              "      <td>No</td>\n",
              "      <td>1</td>\n",
              "      <td>0.0</td>\n",
              "      <td>0.0</td>\n",
              "      <td>12/29/2021</td>\n",
              "    </tr>\n",
              "    <tr>\n",
              "      <th>4</th>\n",
              "      <td>2020</td>\n",
              "      <td>5</td>\n",
              "      <td>41</td>\n",
              "      <td>F</td>\n",
              "      <td>12</td>\n",
              "      <td>155</td>\n",
              "      <td>50</td>\n",
              "      <td>75.2</td>\n",
              "      <td>1.5</td>\n",
              "      <td>1.2</td>\n",
              "      <td>...</td>\n",
              "      <td>0.7</td>\n",
              "      <td>18.0</td>\n",
              "      <td>17.0</td>\n",
              "      <td>14.0</td>\n",
              "      <td>No</td>\n",
              "      <td>No</td>\n",
              "      <td>0</td>\n",
              "      <td>NaN</td>\n",
              "      <td>NaN</td>\n",
              "      <td>12/29/2021</td>\n",
              "    </tr>\n",
              "  </tbody>\n",
              "</table>\n",
              "<p>5 rows × 31 columns</p>\n",
              "</div>\n",
              "      <button class=\"colab-df-convert\" onclick=\"convertToInteractive('df-064b1271-e048-4abe-aa5f-82d74371a5e7')\"\n",
              "              title=\"Convert this dataframe to an interactive table.\"\n",
              "              style=\"display:none;\">\n",
              "        \n",
              "  <svg xmlns=\"http://www.w3.org/2000/svg\" height=\"24px\"viewBox=\"0 0 24 24\"\n",
              "       width=\"24px\">\n",
              "    <path d=\"M0 0h24v24H0V0z\" fill=\"none\"/>\n",
              "    <path d=\"M18.56 5.44l.94 2.06.94-2.06 2.06-.94-2.06-.94-.94-2.06-.94 2.06-2.06.94zm-11 1L8.5 8.5l.94-2.06 2.06-.94-2.06-.94L8.5 2.5l-.94 2.06-2.06.94zm10 10l.94 2.06.94-2.06 2.06-.94-2.06-.94-.94-2.06-.94 2.06-2.06.94z\"/><path d=\"M17.41 7.96l-1.37-1.37c-.4-.4-.92-.59-1.43-.59-.52 0-1.04.2-1.43.59L10.3 9.45l-7.72 7.72c-.78.78-.78 2.05 0 2.83L4 21.41c.39.39.9.59 1.41.59.51 0 1.02-.2 1.41-.59l7.78-7.78 2.81-2.81c.8-.78.8-2.07 0-2.86zM5.41 20L4 18.59l7.72-7.72 1.47 1.35L5.41 20z\"/>\n",
              "  </svg>\n",
              "      </button>\n",
              "      \n",
              "  <style>\n",
              "    .colab-df-container {\n",
              "      display:flex;\n",
              "      flex-wrap:wrap;\n",
              "      gap: 12px;\n",
              "    }\n",
              "\n",
              "    .colab-df-convert {\n",
              "      background-color: #E8F0FE;\n",
              "      border: none;\n",
              "      border-radius: 50%;\n",
              "      cursor: pointer;\n",
              "      display: none;\n",
              "      fill: #1967D2;\n",
              "      height: 32px;\n",
              "      padding: 0 0 0 0;\n",
              "      width: 32px;\n",
              "    }\n",
              "\n",
              "    .colab-df-convert:hover {\n",
              "      background-color: #E2EBFA;\n",
              "      box-shadow: 0px 1px 2px rgba(60, 64, 67, 0.3), 0px 1px 3px 1px rgba(60, 64, 67, 0.15);\n",
              "      fill: #174EA6;\n",
              "    }\n",
              "\n",
              "    [theme=dark] .colab-df-convert {\n",
              "      background-color: #3B4455;\n",
              "      fill: #D2E3FC;\n",
              "    }\n",
              "\n",
              "    [theme=dark] .colab-df-convert:hover {\n",
              "      background-color: #434B5C;\n",
              "      box-shadow: 0px 1px 3px 1px rgba(0, 0, 0, 0.15);\n",
              "      filter: drop-shadow(0px 1px 2px rgba(0, 0, 0, 0.3));\n",
              "      fill: #FFFFFF;\n",
              "    }\n",
              "  </style>\n",
              "\n",
              "      <script>\n",
              "        const buttonEl =\n",
              "          document.querySelector('#df-064b1271-e048-4abe-aa5f-82d74371a5e7 button.colab-df-convert');\n",
              "        buttonEl.style.display =\n",
              "          google.colab.kernel.accessAllowed ? 'block' : 'none';\n",
              "\n",
              "        async function convertToInteractive(key) {\n",
              "          const element = document.querySelector('#df-064b1271-e048-4abe-aa5f-82d74371a5e7');\n",
              "          const dataTable =\n",
              "            await google.colab.kernel.invokeFunction('convertToInteractive',\n",
              "                                                     [key], {});\n",
              "          if (!dataTable) return;\n",
              "\n",
              "          const docLinkHtml = 'Like what you see? Visit the ' +\n",
              "            '<a target=\"_blank\" href=https://colab.research.google.com/notebooks/data_table.ipynb>data table notebook</a>'\n",
              "            + ' to learn more about interactive tables.';\n",
              "          element.innerHTML = '';\n",
              "          dataTable['output_type'] = 'display_data';\n",
              "          await google.colab.output.renderOutput(dataTable, element);\n",
              "          const docLink = document.createElement('div');\n",
              "          docLink.innerHTML = docLinkHtml;\n",
              "          element.appendChild(docLink);\n",
              "        }\n",
              "      </script>\n",
              "    </div>\n",
              "  </div>\n",
              "  "
            ]
          },
          "metadata": {}
        }
      ]
    },
    {
      "cell_type": "markdown",
      "source": [
        "## **2. 데이터 전처리**\n",
        "-분석과 무관하거나 사용하지 않는 데이터열 삭제\n",
        "\n",
        "-의사결정나무에 해당 데이터를 사용하기 위해 결측치가 있는 행 모두 삭제 "
      ],
      "metadata": {
        "id": "UfhsQOgtPP_5"
      }
    },
    {
      "cell_type": "code",
      "source": [
        "health1 = health2.drop(columns=[\"데이터공개일자\",\"흡연상태\",\"음주여부\",\"구강검진수검여부\",\"치아우식증유무\",\"치석\"])\n",
        "health1\n",
        "#범주형 데이터열(분석에 사용하지 않음) 삭제"
      ],
      "metadata": {
        "colab": {
          "base_uri": "https://localhost:8080/",
          "height": 626
        },
        "id": "gNV8WU172smu",
        "outputId": "8f6dc687-e318-4bac-dad7-950bb3d14953"
      },
      "execution_count": 9,
      "outputs": [
        {
          "output_type": "execute_result",
          "data": {
            "text/plain": [
              "      기준년도  가입자일련번호  시도코드 성별코드  연령대코드(5세단위)  신장(5Cm단위)  체중(5Kg 단위)   허리둘레  \\\n",
              "0     2020        1    36    M            9        165          60   72.1   \n",
              "1     2020        2    27    F           13        150          65   81.0   \n",
              "2     2020        3    11    F           12        155          55   70.0   \n",
              "3     2020        4    31    M           13        160          70   90.8   \n",
              "4     2020        5    41    F           12        155          50   75.2   \n",
              "...    ...      ...   ...  ...          ...        ...         ...    ...   \n",
              "9995  2020     9996    44    F           13        155          55   83.0   \n",
              "9996  2020     9997    43    F           11        160          55   77.5   \n",
              "9997  2020     9998    45    M           12        160          80   93.0   \n",
              "9998  2020     9999    27    F           15        155          55   78.0   \n",
              "9999  2020    10000    45    F           13        160          75  100.0   \n",
              "\n",
              "      시력(좌)  시력(우)  ...  총콜레스테롤  트리글리세라이드  HDL콜레스테롤  LDL콜레스테롤   혈색소  요단백  \\\n",
              "0       1.2    1.5  ...   188.0      58.0      58.0     118.0  15.0  1.0   \n",
              "1       0.8    0.8  ...     NaN       NaN       NaN       NaN  12.7  1.0   \n",
              "2       0.6    0.7  ...     NaN       NaN       NaN       NaN  12.8  1.0   \n",
              "3       1.0    1.0  ...     NaN       NaN       NaN       NaN  16.4  1.0   \n",
              "4       1.5    1.2  ...   220.0     171.0      53.0     133.0  12.4  1.0   \n",
              "...     ...    ...  ...     ...       ...       ...       ...   ...  ...   \n",
              "9995    1.2    1.2  ...     NaN       NaN       NaN       NaN  13.7  1.0   \n",
              "9996    1.0    1.2  ...     NaN       NaN       NaN       NaN  14.3  1.0   \n",
              "9997    0.6    0.6  ...     NaN       NaN       NaN       NaN  15.6  1.0   \n",
              "9998    0.6    1.0  ...     NaN       NaN       NaN       NaN  13.5  NaN   \n",
              "9999    0.5    0.5  ...   164.0     132.0      52.0      86.0  13.3  1.0   \n",
              "\n",
              "      혈청크레아티닌  (혈청지오티)AST  (혈청지오티)ALT  감마지티피  \n",
              "0         1.1        21.0        27.0   21.0  \n",
              "1         0.5        18.0        15.0   15.0  \n",
              "2         0.7        27.0        25.0    7.0  \n",
              "3         1.2        65.0        97.0   72.0  \n",
              "4         0.7        18.0        17.0   14.0  \n",
              "...       ...         ...         ...    ...  \n",
              "9995      0.7        20.0        21.0   20.0  \n",
              "9996      0.7        24.0        22.0   21.0  \n",
              "9997      1.0        22.0        27.0   35.0  \n",
              "9998      1.0        26.0        24.0   21.0  \n",
              "9999      0.6        32.0        24.0   30.0  \n",
              "\n",
              "[10000 rows x 25 columns]"
            ],
            "text/html": [
              "\n",
              "  <div id=\"df-29e6626f-f0d4-4036-a263-82a3f9369135\">\n",
              "    <div class=\"colab-df-container\">\n",
              "      <div>\n",
              "<style scoped>\n",
              "    .dataframe tbody tr th:only-of-type {\n",
              "        vertical-align: middle;\n",
              "    }\n",
              "\n",
              "    .dataframe tbody tr th {\n",
              "        vertical-align: top;\n",
              "    }\n",
              "\n",
              "    .dataframe thead th {\n",
              "        text-align: right;\n",
              "    }\n",
              "</style>\n",
              "<table border=\"1\" class=\"dataframe\">\n",
              "  <thead>\n",
              "    <tr style=\"text-align: right;\">\n",
              "      <th></th>\n",
              "      <th>기준년도</th>\n",
              "      <th>가입자일련번호</th>\n",
              "      <th>시도코드</th>\n",
              "      <th>성별코드</th>\n",
              "      <th>연령대코드(5세단위)</th>\n",
              "      <th>신장(5Cm단위)</th>\n",
              "      <th>체중(5Kg 단위)</th>\n",
              "      <th>허리둘레</th>\n",
              "      <th>시력(좌)</th>\n",
              "      <th>시력(우)</th>\n",
              "      <th>...</th>\n",
              "      <th>총콜레스테롤</th>\n",
              "      <th>트리글리세라이드</th>\n",
              "      <th>HDL콜레스테롤</th>\n",
              "      <th>LDL콜레스테롤</th>\n",
              "      <th>혈색소</th>\n",
              "      <th>요단백</th>\n",
              "      <th>혈청크레아티닌</th>\n",
              "      <th>(혈청지오티)AST</th>\n",
              "      <th>(혈청지오티)ALT</th>\n",
              "      <th>감마지티피</th>\n",
              "    </tr>\n",
              "  </thead>\n",
              "  <tbody>\n",
              "    <tr>\n",
              "      <th>0</th>\n",
              "      <td>2020</td>\n",
              "      <td>1</td>\n",
              "      <td>36</td>\n",
              "      <td>M</td>\n",
              "      <td>9</td>\n",
              "      <td>165</td>\n",
              "      <td>60</td>\n",
              "      <td>72.1</td>\n",
              "      <td>1.2</td>\n",
              "      <td>1.5</td>\n",
              "      <td>...</td>\n",
              "      <td>188.0</td>\n",
              "      <td>58.0</td>\n",
              "      <td>58.0</td>\n",
              "      <td>118.0</td>\n",
              "      <td>15.0</td>\n",
              "      <td>1.0</td>\n",
              "      <td>1.1</td>\n",
              "      <td>21.0</td>\n",
              "      <td>27.0</td>\n",
              "      <td>21.0</td>\n",
              "    </tr>\n",
              "    <tr>\n",
              "      <th>1</th>\n",
              "      <td>2020</td>\n",
              "      <td>2</td>\n",
              "      <td>27</td>\n",
              "      <td>F</td>\n",
              "      <td>13</td>\n",
              "      <td>150</td>\n",
              "      <td>65</td>\n",
              "      <td>81.0</td>\n",
              "      <td>0.8</td>\n",
              "      <td>0.8</td>\n",
              "      <td>...</td>\n",
              "      <td>NaN</td>\n",
              "      <td>NaN</td>\n",
              "      <td>NaN</td>\n",
              "      <td>NaN</td>\n",
              "      <td>12.7</td>\n",
              "      <td>1.0</td>\n",
              "      <td>0.5</td>\n",
              "      <td>18.0</td>\n",
              "      <td>15.0</td>\n",
              "      <td>15.0</td>\n",
              "    </tr>\n",
              "    <tr>\n",
              "      <th>2</th>\n",
              "      <td>2020</td>\n",
              "      <td>3</td>\n",
              "      <td>11</td>\n",
              "      <td>F</td>\n",
              "      <td>12</td>\n",
              "      <td>155</td>\n",
              "      <td>55</td>\n",
              "      <td>70.0</td>\n",
              "      <td>0.6</td>\n",
              "      <td>0.7</td>\n",
              "      <td>...</td>\n",
              "      <td>NaN</td>\n",
              "      <td>NaN</td>\n",
              "      <td>NaN</td>\n",
              "      <td>NaN</td>\n",
              "      <td>12.8</td>\n",
              "      <td>1.0</td>\n",
              "      <td>0.7</td>\n",
              "      <td>27.0</td>\n",
              "      <td>25.0</td>\n",
              "      <td>7.0</td>\n",
              "    </tr>\n",
              "    <tr>\n",
              "      <th>3</th>\n",
              "      <td>2020</td>\n",
              "      <td>4</td>\n",
              "      <td>31</td>\n",
              "      <td>M</td>\n",
              "      <td>13</td>\n",
              "      <td>160</td>\n",
              "      <td>70</td>\n",
              "      <td>90.8</td>\n",
              "      <td>1.0</td>\n",
              "      <td>1.0</td>\n",
              "      <td>...</td>\n",
              "      <td>NaN</td>\n",
              "      <td>NaN</td>\n",
              "      <td>NaN</td>\n",
              "      <td>NaN</td>\n",
              "      <td>16.4</td>\n",
              "      <td>1.0</td>\n",
              "      <td>1.2</td>\n",
              "      <td>65.0</td>\n",
              "      <td>97.0</td>\n",
              "      <td>72.0</td>\n",
              "    </tr>\n",
              "    <tr>\n",
              "      <th>4</th>\n",
              "      <td>2020</td>\n",
              "      <td>5</td>\n",
              "      <td>41</td>\n",
              "      <td>F</td>\n",
              "      <td>12</td>\n",
              "      <td>155</td>\n",
              "      <td>50</td>\n",
              "      <td>75.2</td>\n",
              "      <td>1.5</td>\n",
              "      <td>1.2</td>\n",
              "      <td>...</td>\n",
              "      <td>220.0</td>\n",
              "      <td>171.0</td>\n",
              "      <td>53.0</td>\n",
              "      <td>133.0</td>\n",
              "      <td>12.4</td>\n",
              "      <td>1.0</td>\n",
              "      <td>0.7</td>\n",
              "      <td>18.0</td>\n",
              "      <td>17.0</td>\n",
              "      <td>14.0</td>\n",
              "    </tr>\n",
              "    <tr>\n",
              "      <th>...</th>\n",
              "      <td>...</td>\n",
              "      <td>...</td>\n",
              "      <td>...</td>\n",
              "      <td>...</td>\n",
              "      <td>...</td>\n",
              "      <td>...</td>\n",
              "      <td>...</td>\n",
              "      <td>...</td>\n",
              "      <td>...</td>\n",
              "      <td>...</td>\n",
              "      <td>...</td>\n",
              "      <td>...</td>\n",
              "      <td>...</td>\n",
              "      <td>...</td>\n",
              "      <td>...</td>\n",
              "      <td>...</td>\n",
              "      <td>...</td>\n",
              "      <td>...</td>\n",
              "      <td>...</td>\n",
              "      <td>...</td>\n",
              "      <td>...</td>\n",
              "    </tr>\n",
              "    <tr>\n",
              "      <th>9995</th>\n",
              "      <td>2020</td>\n",
              "      <td>9996</td>\n",
              "      <td>44</td>\n",
              "      <td>F</td>\n",
              "      <td>13</td>\n",
              "      <td>155</td>\n",
              "      <td>55</td>\n",
              "      <td>83.0</td>\n",
              "      <td>1.2</td>\n",
              "      <td>1.2</td>\n",
              "      <td>...</td>\n",
              "      <td>NaN</td>\n",
              "      <td>NaN</td>\n",
              "      <td>NaN</td>\n",
              "      <td>NaN</td>\n",
              "      <td>13.7</td>\n",
              "      <td>1.0</td>\n",
              "      <td>0.7</td>\n",
              "      <td>20.0</td>\n",
              "      <td>21.0</td>\n",
              "      <td>20.0</td>\n",
              "    </tr>\n",
              "    <tr>\n",
              "      <th>9996</th>\n",
              "      <td>2020</td>\n",
              "      <td>9997</td>\n",
              "      <td>43</td>\n",
              "      <td>F</td>\n",
              "      <td>11</td>\n",
              "      <td>160</td>\n",
              "      <td>55</td>\n",
              "      <td>77.5</td>\n",
              "      <td>1.0</td>\n",
              "      <td>1.2</td>\n",
              "      <td>...</td>\n",
              "      <td>NaN</td>\n",
              "      <td>NaN</td>\n",
              "      <td>NaN</td>\n",
              "      <td>NaN</td>\n",
              "      <td>14.3</td>\n",
              "      <td>1.0</td>\n",
              "      <td>0.7</td>\n",
              "      <td>24.0</td>\n",
              "      <td>22.0</td>\n",
              "      <td>21.0</td>\n",
              "    </tr>\n",
              "    <tr>\n",
              "      <th>9997</th>\n",
              "      <td>2020</td>\n",
              "      <td>9998</td>\n",
              "      <td>45</td>\n",
              "      <td>M</td>\n",
              "      <td>12</td>\n",
              "      <td>160</td>\n",
              "      <td>80</td>\n",
              "      <td>93.0</td>\n",
              "      <td>0.6</td>\n",
              "      <td>0.6</td>\n",
              "      <td>...</td>\n",
              "      <td>NaN</td>\n",
              "      <td>NaN</td>\n",
              "      <td>NaN</td>\n",
              "      <td>NaN</td>\n",
              "      <td>15.6</td>\n",
              "      <td>1.0</td>\n",
              "      <td>1.0</td>\n",
              "      <td>22.0</td>\n",
              "      <td>27.0</td>\n",
              "      <td>35.0</td>\n",
              "    </tr>\n",
              "    <tr>\n",
              "      <th>9998</th>\n",
              "      <td>2020</td>\n",
              "      <td>9999</td>\n",
              "      <td>27</td>\n",
              "      <td>F</td>\n",
              "      <td>15</td>\n",
              "      <td>155</td>\n",
              "      <td>55</td>\n",
              "      <td>78.0</td>\n",
              "      <td>0.6</td>\n",
              "      <td>1.0</td>\n",
              "      <td>...</td>\n",
              "      <td>NaN</td>\n",
              "      <td>NaN</td>\n",
              "      <td>NaN</td>\n",
              "      <td>NaN</td>\n",
              "      <td>13.5</td>\n",
              "      <td>NaN</td>\n",
              "      <td>1.0</td>\n",
              "      <td>26.0</td>\n",
              "      <td>24.0</td>\n",
              "      <td>21.0</td>\n",
              "    </tr>\n",
              "    <tr>\n",
              "      <th>9999</th>\n",
              "      <td>2020</td>\n",
              "      <td>10000</td>\n",
              "      <td>45</td>\n",
              "      <td>F</td>\n",
              "      <td>13</td>\n",
              "      <td>160</td>\n",
              "      <td>75</td>\n",
              "      <td>100.0</td>\n",
              "      <td>0.5</td>\n",
              "      <td>0.5</td>\n",
              "      <td>...</td>\n",
              "      <td>164.0</td>\n",
              "      <td>132.0</td>\n",
              "      <td>52.0</td>\n",
              "      <td>86.0</td>\n",
              "      <td>13.3</td>\n",
              "      <td>1.0</td>\n",
              "      <td>0.6</td>\n",
              "      <td>32.0</td>\n",
              "      <td>24.0</td>\n",
              "      <td>30.0</td>\n",
              "    </tr>\n",
              "  </tbody>\n",
              "</table>\n",
              "<p>10000 rows × 25 columns</p>\n",
              "</div>\n",
              "      <button class=\"colab-df-convert\" onclick=\"convertToInteractive('df-29e6626f-f0d4-4036-a263-82a3f9369135')\"\n",
              "              title=\"Convert this dataframe to an interactive table.\"\n",
              "              style=\"display:none;\">\n",
              "        \n",
              "  <svg xmlns=\"http://www.w3.org/2000/svg\" height=\"24px\"viewBox=\"0 0 24 24\"\n",
              "       width=\"24px\">\n",
              "    <path d=\"M0 0h24v24H0V0z\" fill=\"none\"/>\n",
              "    <path d=\"M18.56 5.44l.94 2.06.94-2.06 2.06-.94-2.06-.94-.94-2.06-.94 2.06-2.06.94zm-11 1L8.5 8.5l.94-2.06 2.06-.94-2.06-.94L8.5 2.5l-.94 2.06-2.06.94zm10 10l.94 2.06.94-2.06 2.06-.94-2.06-.94-.94-2.06-.94 2.06-2.06.94z\"/><path d=\"M17.41 7.96l-1.37-1.37c-.4-.4-.92-.59-1.43-.59-.52 0-1.04.2-1.43.59L10.3 9.45l-7.72 7.72c-.78.78-.78 2.05 0 2.83L4 21.41c.39.39.9.59 1.41.59.51 0 1.02-.2 1.41-.59l7.78-7.78 2.81-2.81c.8-.78.8-2.07 0-2.86zM5.41 20L4 18.59l7.72-7.72 1.47 1.35L5.41 20z\"/>\n",
              "  </svg>\n",
              "      </button>\n",
              "      \n",
              "  <style>\n",
              "    .colab-df-container {\n",
              "      display:flex;\n",
              "      flex-wrap:wrap;\n",
              "      gap: 12px;\n",
              "    }\n",
              "\n",
              "    .colab-df-convert {\n",
              "      background-color: #E8F0FE;\n",
              "      border: none;\n",
              "      border-radius: 50%;\n",
              "      cursor: pointer;\n",
              "      display: none;\n",
              "      fill: #1967D2;\n",
              "      height: 32px;\n",
              "      padding: 0 0 0 0;\n",
              "      width: 32px;\n",
              "    }\n",
              "\n",
              "    .colab-df-convert:hover {\n",
              "      background-color: #E2EBFA;\n",
              "      box-shadow: 0px 1px 2px rgba(60, 64, 67, 0.3), 0px 1px 3px 1px rgba(60, 64, 67, 0.15);\n",
              "      fill: #174EA6;\n",
              "    }\n",
              "\n",
              "    [theme=dark] .colab-df-convert {\n",
              "      background-color: #3B4455;\n",
              "      fill: #D2E3FC;\n",
              "    }\n",
              "\n",
              "    [theme=dark] .colab-df-convert:hover {\n",
              "      background-color: #434B5C;\n",
              "      box-shadow: 0px 1px 3px 1px rgba(0, 0, 0, 0.15);\n",
              "      filter: drop-shadow(0px 1px 2px rgba(0, 0, 0, 0.3));\n",
              "      fill: #FFFFFF;\n",
              "    }\n",
              "  </style>\n",
              "\n",
              "      <script>\n",
              "        const buttonEl =\n",
              "          document.querySelector('#df-29e6626f-f0d4-4036-a263-82a3f9369135 button.colab-df-convert');\n",
              "        buttonEl.style.display =\n",
              "          google.colab.kernel.accessAllowed ? 'block' : 'none';\n",
              "\n",
              "        async function convertToInteractive(key) {\n",
              "          const element = document.querySelector('#df-29e6626f-f0d4-4036-a263-82a3f9369135');\n",
              "          const dataTable =\n",
              "            await google.colab.kernel.invokeFunction('convertToInteractive',\n",
              "                                                     [key], {});\n",
              "          if (!dataTable) return;\n",
              "\n",
              "          const docLinkHtml = 'Like what you see? Visit the ' +\n",
              "            '<a target=\"_blank\" href=https://colab.research.google.com/notebooks/data_table.ipynb>data table notebook</a>'\n",
              "            + ' to learn more about interactive tables.';\n",
              "          element.innerHTML = '';\n",
              "          dataTable['output_type'] = 'display_data';\n",
              "          await google.colab.output.renderOutput(dataTable, element);\n",
              "          const docLink = document.createElement('div');\n",
              "          docLink.innerHTML = docLinkHtml;\n",
              "          element.appendChild(docLink);\n",
              "        }\n",
              "      </script>\n",
              "    </div>\n",
              "  </div>\n",
              "  "
            ]
          },
          "metadata": {},
          "execution_count": 9
        }
      ]
    },
    {
      "cell_type": "code",
      "source": [
        "health = health1.dropna(axis=0)   \n",
        "health   \n",
        "#결측치 처리_결측치행 전체 삭제"
      ],
      "metadata": {
        "colab": {
          "base_uri": "https://localhost:8080/",
          "height": 626
        },
        "id": "oaFj75trA7pB",
        "outputId": "2b5928ae-7607-4028-b9e1-2134ceea0b7b"
      },
      "execution_count": 10,
      "outputs": [
        {
          "output_type": "execute_result",
          "data": {
            "text/plain": [
              "      기준년도  가입자일련번호  시도코드 성별코드  연령대코드(5세단위)  신장(5Cm단위)  체중(5Kg 단위)   허리둘레  \\\n",
              "0     2020        1    36    M            9        165          60   72.1   \n",
              "4     2020        5    41    F           12        155          50   75.2   \n",
              "5     2020        6    27    M            9        185          85   94.0   \n",
              "6     2020        7    44    M            9        165          80   93.0   \n",
              "8     2020        9    41    F           17        150          50   82.0   \n",
              "...    ...      ...   ...  ...          ...        ...         ...    ...   \n",
              "9985  2020     9986    44    F           14        150          70   96.0   \n",
              "9989  2020     9990    41    F           16        145          70   94.0   \n",
              "9991  2020     9992    11    M           16        155          45   70.0   \n",
              "9994  2020     9995    41    M           17        150          55   95.0   \n",
              "9999  2020    10000    45    F           13        160          75  100.0   \n",
              "\n",
              "      시력(좌)  시력(우)  ...  총콜레스테롤  트리글리세라이드  HDL콜레스테롤  LDL콜레스테롤   혈색소  요단백  \\\n",
              "0       1.2    1.5  ...   188.0      58.0      58.0     118.0  15.0  1.0   \n",
              "4       1.5    1.2  ...   220.0     171.0      53.0     133.0  12.4  1.0   \n",
              "5       1.2    1.2  ...   234.0     183.0      50.0     147.0  16.4  1.0   \n",
              "6       0.8    0.7  ...   119.0     265.0      26.0      40.0  15.7  1.0   \n",
              "8       0.4    0.5  ...   177.0      61.0      63.0     101.0  13.3  1.0   \n",
              "...     ...    ...  ...     ...       ...       ...       ...   ...  ...   \n",
              "9985    0.4    0.7  ...   110.0     132.0      35.0      49.0  14.8  1.0   \n",
              "9989    0.7    0.5  ...   172.0     104.0      65.0      86.0  13.5  1.0   \n",
              "9991    0.1    0.7  ...   151.0      74.0      54.0      82.0  13.0  1.0   \n",
              "9994    0.5    0.8  ...   188.0     125.0      53.0     110.0  15.7  1.0   \n",
              "9999    0.5    0.5  ...   164.0     132.0      52.0      86.0  13.3  1.0   \n",
              "\n",
              "      혈청크레아티닌  (혈청지오티)AST  (혈청지오티)ALT  감마지티피  \n",
              "0         1.1        21.0        27.0   21.0  \n",
              "4         0.7        18.0        17.0   14.0  \n",
              "5         1.1        25.0        32.0   26.0  \n",
              "6         0.7        18.0        20.0   35.0  \n",
              "8         0.7        42.0        48.0   39.0  \n",
              "...       ...         ...         ...    ...  \n",
              "9985      0.8        23.0        24.0   15.0  \n",
              "9989      0.7        19.0        15.0   11.0  \n",
              "9991      1.4        20.0        13.0   16.0  \n",
              "9994      1.1        22.0        21.0   18.0  \n",
              "9999      0.6        32.0        24.0   30.0  \n",
              "\n",
              "[3956 rows x 25 columns]"
            ],
            "text/html": [
              "\n",
              "  <div id=\"df-905b5f11-a9b7-4601-9f36-6e2c9dfb1e2e\">\n",
              "    <div class=\"colab-df-container\">\n",
              "      <div>\n",
              "<style scoped>\n",
              "    .dataframe tbody tr th:only-of-type {\n",
              "        vertical-align: middle;\n",
              "    }\n",
              "\n",
              "    .dataframe tbody tr th {\n",
              "        vertical-align: top;\n",
              "    }\n",
              "\n",
              "    .dataframe thead th {\n",
              "        text-align: right;\n",
              "    }\n",
              "</style>\n",
              "<table border=\"1\" class=\"dataframe\">\n",
              "  <thead>\n",
              "    <tr style=\"text-align: right;\">\n",
              "      <th></th>\n",
              "      <th>기준년도</th>\n",
              "      <th>가입자일련번호</th>\n",
              "      <th>시도코드</th>\n",
              "      <th>성별코드</th>\n",
              "      <th>연령대코드(5세단위)</th>\n",
              "      <th>신장(5Cm단위)</th>\n",
              "      <th>체중(5Kg 단위)</th>\n",
              "      <th>허리둘레</th>\n",
              "      <th>시력(좌)</th>\n",
              "      <th>시력(우)</th>\n",
              "      <th>...</th>\n",
              "      <th>총콜레스테롤</th>\n",
              "      <th>트리글리세라이드</th>\n",
              "      <th>HDL콜레스테롤</th>\n",
              "      <th>LDL콜레스테롤</th>\n",
              "      <th>혈색소</th>\n",
              "      <th>요단백</th>\n",
              "      <th>혈청크레아티닌</th>\n",
              "      <th>(혈청지오티)AST</th>\n",
              "      <th>(혈청지오티)ALT</th>\n",
              "      <th>감마지티피</th>\n",
              "    </tr>\n",
              "  </thead>\n",
              "  <tbody>\n",
              "    <tr>\n",
              "      <th>0</th>\n",
              "      <td>2020</td>\n",
              "      <td>1</td>\n",
              "      <td>36</td>\n",
              "      <td>M</td>\n",
              "      <td>9</td>\n",
              "      <td>165</td>\n",
              "      <td>60</td>\n",
              "      <td>72.1</td>\n",
              "      <td>1.2</td>\n",
              "      <td>1.5</td>\n",
              "      <td>...</td>\n",
              "      <td>188.0</td>\n",
              "      <td>58.0</td>\n",
              "      <td>58.0</td>\n",
              "      <td>118.0</td>\n",
              "      <td>15.0</td>\n",
              "      <td>1.0</td>\n",
              "      <td>1.1</td>\n",
              "      <td>21.0</td>\n",
              "      <td>27.0</td>\n",
              "      <td>21.0</td>\n",
              "    </tr>\n",
              "    <tr>\n",
              "      <th>4</th>\n",
              "      <td>2020</td>\n",
              "      <td>5</td>\n",
              "      <td>41</td>\n",
              "      <td>F</td>\n",
              "      <td>12</td>\n",
              "      <td>155</td>\n",
              "      <td>50</td>\n",
              "      <td>75.2</td>\n",
              "      <td>1.5</td>\n",
              "      <td>1.2</td>\n",
              "      <td>...</td>\n",
              "      <td>220.0</td>\n",
              "      <td>171.0</td>\n",
              "      <td>53.0</td>\n",
              "      <td>133.0</td>\n",
              "      <td>12.4</td>\n",
              "      <td>1.0</td>\n",
              "      <td>0.7</td>\n",
              "      <td>18.0</td>\n",
              "      <td>17.0</td>\n",
              "      <td>14.0</td>\n",
              "    </tr>\n",
              "    <tr>\n",
              "      <th>5</th>\n",
              "      <td>2020</td>\n",
              "      <td>6</td>\n",
              "      <td>27</td>\n",
              "      <td>M</td>\n",
              "      <td>9</td>\n",
              "      <td>185</td>\n",
              "      <td>85</td>\n",
              "      <td>94.0</td>\n",
              "      <td>1.2</td>\n",
              "      <td>1.2</td>\n",
              "      <td>...</td>\n",
              "      <td>234.0</td>\n",
              "      <td>183.0</td>\n",
              "      <td>50.0</td>\n",
              "      <td>147.0</td>\n",
              "      <td>16.4</td>\n",
              "      <td>1.0</td>\n",
              "      <td>1.1</td>\n",
              "      <td>25.0</td>\n",
              "      <td>32.0</td>\n",
              "      <td>26.0</td>\n",
              "    </tr>\n",
              "    <tr>\n",
              "      <th>6</th>\n",
              "      <td>2020</td>\n",
              "      <td>7</td>\n",
              "      <td>44</td>\n",
              "      <td>M</td>\n",
              "      <td>9</td>\n",
              "      <td>165</td>\n",
              "      <td>80</td>\n",
              "      <td>93.0</td>\n",
              "      <td>0.8</td>\n",
              "      <td>0.7</td>\n",
              "      <td>...</td>\n",
              "      <td>119.0</td>\n",
              "      <td>265.0</td>\n",
              "      <td>26.0</td>\n",
              "      <td>40.0</td>\n",
              "      <td>15.7</td>\n",
              "      <td>1.0</td>\n",
              "      <td>0.7</td>\n",
              "      <td>18.0</td>\n",
              "      <td>20.0</td>\n",
              "      <td>35.0</td>\n",
              "    </tr>\n",
              "    <tr>\n",
              "      <th>8</th>\n",
              "      <td>2020</td>\n",
              "      <td>9</td>\n",
              "      <td>41</td>\n",
              "      <td>F</td>\n",
              "      <td>17</td>\n",
              "      <td>150</td>\n",
              "      <td>50</td>\n",
              "      <td>82.0</td>\n",
              "      <td>0.4</td>\n",
              "      <td>0.5</td>\n",
              "      <td>...</td>\n",
              "      <td>177.0</td>\n",
              "      <td>61.0</td>\n",
              "      <td>63.0</td>\n",
              "      <td>101.0</td>\n",
              "      <td>13.3</td>\n",
              "      <td>1.0</td>\n",
              "      <td>0.7</td>\n",
              "      <td>42.0</td>\n",
              "      <td>48.0</td>\n",
              "      <td>39.0</td>\n",
              "    </tr>\n",
              "    <tr>\n",
              "      <th>...</th>\n",
              "      <td>...</td>\n",
              "      <td>...</td>\n",
              "      <td>...</td>\n",
              "      <td>...</td>\n",
              "      <td>...</td>\n",
              "      <td>...</td>\n",
              "      <td>...</td>\n",
              "      <td>...</td>\n",
              "      <td>...</td>\n",
              "      <td>...</td>\n",
              "      <td>...</td>\n",
              "      <td>...</td>\n",
              "      <td>...</td>\n",
              "      <td>...</td>\n",
              "      <td>...</td>\n",
              "      <td>...</td>\n",
              "      <td>...</td>\n",
              "      <td>...</td>\n",
              "      <td>...</td>\n",
              "      <td>...</td>\n",
              "      <td>...</td>\n",
              "    </tr>\n",
              "    <tr>\n",
              "      <th>9985</th>\n",
              "      <td>2020</td>\n",
              "      <td>9986</td>\n",
              "      <td>44</td>\n",
              "      <td>F</td>\n",
              "      <td>14</td>\n",
              "      <td>150</td>\n",
              "      <td>70</td>\n",
              "      <td>96.0</td>\n",
              "      <td>0.4</td>\n",
              "      <td>0.7</td>\n",
              "      <td>...</td>\n",
              "      <td>110.0</td>\n",
              "      <td>132.0</td>\n",
              "      <td>35.0</td>\n",
              "      <td>49.0</td>\n",
              "      <td>14.8</td>\n",
              "      <td>1.0</td>\n",
              "      <td>0.8</td>\n",
              "      <td>23.0</td>\n",
              "      <td>24.0</td>\n",
              "      <td>15.0</td>\n",
              "    </tr>\n",
              "    <tr>\n",
              "      <th>9989</th>\n",
              "      <td>2020</td>\n",
              "      <td>9990</td>\n",
              "      <td>41</td>\n",
              "      <td>F</td>\n",
              "      <td>16</td>\n",
              "      <td>145</td>\n",
              "      <td>70</td>\n",
              "      <td>94.0</td>\n",
              "      <td>0.7</td>\n",
              "      <td>0.5</td>\n",
              "      <td>...</td>\n",
              "      <td>172.0</td>\n",
              "      <td>104.0</td>\n",
              "      <td>65.0</td>\n",
              "      <td>86.0</td>\n",
              "      <td>13.5</td>\n",
              "      <td>1.0</td>\n",
              "      <td>0.7</td>\n",
              "      <td>19.0</td>\n",
              "      <td>15.0</td>\n",
              "      <td>11.0</td>\n",
              "    </tr>\n",
              "    <tr>\n",
              "      <th>9991</th>\n",
              "      <td>2020</td>\n",
              "      <td>9992</td>\n",
              "      <td>11</td>\n",
              "      <td>M</td>\n",
              "      <td>16</td>\n",
              "      <td>155</td>\n",
              "      <td>45</td>\n",
              "      <td>70.0</td>\n",
              "      <td>0.1</td>\n",
              "      <td>0.7</td>\n",
              "      <td>...</td>\n",
              "      <td>151.0</td>\n",
              "      <td>74.0</td>\n",
              "      <td>54.0</td>\n",
              "      <td>82.0</td>\n",
              "      <td>13.0</td>\n",
              "      <td>1.0</td>\n",
              "      <td>1.4</td>\n",
              "      <td>20.0</td>\n",
              "      <td>13.0</td>\n",
              "      <td>16.0</td>\n",
              "    </tr>\n",
              "    <tr>\n",
              "      <th>9994</th>\n",
              "      <td>2020</td>\n",
              "      <td>9995</td>\n",
              "      <td>41</td>\n",
              "      <td>M</td>\n",
              "      <td>17</td>\n",
              "      <td>150</td>\n",
              "      <td>55</td>\n",
              "      <td>95.0</td>\n",
              "      <td>0.5</td>\n",
              "      <td>0.8</td>\n",
              "      <td>...</td>\n",
              "      <td>188.0</td>\n",
              "      <td>125.0</td>\n",
              "      <td>53.0</td>\n",
              "      <td>110.0</td>\n",
              "      <td>15.7</td>\n",
              "      <td>1.0</td>\n",
              "      <td>1.1</td>\n",
              "      <td>22.0</td>\n",
              "      <td>21.0</td>\n",
              "      <td>18.0</td>\n",
              "    </tr>\n",
              "    <tr>\n",
              "      <th>9999</th>\n",
              "      <td>2020</td>\n",
              "      <td>10000</td>\n",
              "      <td>45</td>\n",
              "      <td>F</td>\n",
              "      <td>13</td>\n",
              "      <td>160</td>\n",
              "      <td>75</td>\n",
              "      <td>100.0</td>\n",
              "      <td>0.5</td>\n",
              "      <td>0.5</td>\n",
              "      <td>...</td>\n",
              "      <td>164.0</td>\n",
              "      <td>132.0</td>\n",
              "      <td>52.0</td>\n",
              "      <td>86.0</td>\n",
              "      <td>13.3</td>\n",
              "      <td>1.0</td>\n",
              "      <td>0.6</td>\n",
              "      <td>32.0</td>\n",
              "      <td>24.0</td>\n",
              "      <td>30.0</td>\n",
              "    </tr>\n",
              "  </tbody>\n",
              "</table>\n",
              "<p>3956 rows × 25 columns</p>\n",
              "</div>\n",
              "      <button class=\"colab-df-convert\" onclick=\"convertToInteractive('df-905b5f11-a9b7-4601-9f36-6e2c9dfb1e2e')\"\n",
              "              title=\"Convert this dataframe to an interactive table.\"\n",
              "              style=\"display:none;\">\n",
              "        \n",
              "  <svg xmlns=\"http://www.w3.org/2000/svg\" height=\"24px\"viewBox=\"0 0 24 24\"\n",
              "       width=\"24px\">\n",
              "    <path d=\"M0 0h24v24H0V0z\" fill=\"none\"/>\n",
              "    <path d=\"M18.56 5.44l.94 2.06.94-2.06 2.06-.94-2.06-.94-.94-2.06-.94 2.06-2.06.94zm-11 1L8.5 8.5l.94-2.06 2.06-.94-2.06-.94L8.5 2.5l-.94 2.06-2.06.94zm10 10l.94 2.06.94-2.06 2.06-.94-2.06-.94-.94-2.06-.94 2.06-2.06.94z\"/><path d=\"M17.41 7.96l-1.37-1.37c-.4-.4-.92-.59-1.43-.59-.52 0-1.04.2-1.43.59L10.3 9.45l-7.72 7.72c-.78.78-.78 2.05 0 2.83L4 21.41c.39.39.9.59 1.41.59.51 0 1.02-.2 1.41-.59l7.78-7.78 2.81-2.81c.8-.78.8-2.07 0-2.86zM5.41 20L4 18.59l7.72-7.72 1.47 1.35L5.41 20z\"/>\n",
              "  </svg>\n",
              "      </button>\n",
              "      \n",
              "  <style>\n",
              "    .colab-df-container {\n",
              "      display:flex;\n",
              "      flex-wrap:wrap;\n",
              "      gap: 12px;\n",
              "    }\n",
              "\n",
              "    .colab-df-convert {\n",
              "      background-color: #E8F0FE;\n",
              "      border: none;\n",
              "      border-radius: 50%;\n",
              "      cursor: pointer;\n",
              "      display: none;\n",
              "      fill: #1967D2;\n",
              "      height: 32px;\n",
              "      padding: 0 0 0 0;\n",
              "      width: 32px;\n",
              "    }\n",
              "\n",
              "    .colab-df-convert:hover {\n",
              "      background-color: #E2EBFA;\n",
              "      box-shadow: 0px 1px 2px rgba(60, 64, 67, 0.3), 0px 1px 3px 1px rgba(60, 64, 67, 0.15);\n",
              "      fill: #174EA6;\n",
              "    }\n",
              "\n",
              "    [theme=dark] .colab-df-convert {\n",
              "      background-color: #3B4455;\n",
              "      fill: #D2E3FC;\n",
              "    }\n",
              "\n",
              "    [theme=dark] .colab-df-convert:hover {\n",
              "      background-color: #434B5C;\n",
              "      box-shadow: 0px 1px 3px 1px rgba(0, 0, 0, 0.15);\n",
              "      filter: drop-shadow(0px 1px 2px rgba(0, 0, 0, 0.3));\n",
              "      fill: #FFFFFF;\n",
              "    }\n",
              "  </style>\n",
              "\n",
              "      <script>\n",
              "        const buttonEl =\n",
              "          document.querySelector('#df-905b5f11-a9b7-4601-9f36-6e2c9dfb1e2e button.colab-df-convert');\n",
              "        buttonEl.style.display =\n",
              "          google.colab.kernel.accessAllowed ? 'block' : 'none';\n",
              "\n",
              "        async function convertToInteractive(key) {\n",
              "          const element = document.querySelector('#df-905b5f11-a9b7-4601-9f36-6e2c9dfb1e2e');\n",
              "          const dataTable =\n",
              "            await google.colab.kernel.invokeFunction('convertToInteractive',\n",
              "                                                     [key], {});\n",
              "          if (!dataTable) return;\n",
              "\n",
              "          const docLinkHtml = 'Like what you see? Visit the ' +\n",
              "            '<a target=\"_blank\" href=https://colab.research.google.com/notebooks/data_table.ipynb>data table notebook</a>'\n",
              "            + ' to learn more about interactive tables.';\n",
              "          element.innerHTML = '';\n",
              "          dataTable['output_type'] = 'display_data';\n",
              "          await google.colab.output.renderOutput(dataTable, element);\n",
              "          const docLink = document.createElement('div');\n",
              "          docLink.innerHTML = docLinkHtml;\n",
              "          element.appendChild(docLink);\n",
              "        }\n",
              "      </script>\n",
              "    </div>\n",
              "  </div>\n",
              "  "
            ]
          },
          "metadata": {},
          "execution_count": 10
        }
      ]
    },
    {
      "cell_type": "markdown",
      "source": [
        "## **3. 전처리 데이터 시각화**\n",
        "-위에서 전처리한 과정이 데이터에 잘 반영되었는지 확인\n"
      ],
      "metadata": {
        "id": "6dtz0yDfPVcI"
      }
    },
    {
      "cell_type": "code",
      "source": [
        "print(health['성별코드'].value_counts())\n",
        "\n",
        "health['성별코드'].value_counts().plot.bar()\n",
        "plt.ylabel('count')\n",
        "plt.show()"
      ],
      "metadata": {
        "colab": {
          "base_uri": "https://localhost:8080/",
          "height": 320
        },
        "id": "6LhM05dJ2K-I",
        "outputId": "b1dbfde4-2797-4eef-e005-78e4d3fa0c9f"
      },
      "execution_count": 11,
      "outputs": [
        {
          "output_type": "stream",
          "name": "stdout",
          "text": [
            "F    1995\n",
            "M    1961\n",
            "Name: 성별코드, dtype: int64\n"
          ]
        },
        {
          "output_type": "display_data",
          "data": {
            "text/plain": [
              "<Figure size 432x288 with 1 Axes>"
            ],
            "image/png": "[encoded data removed]"
          },
          "metadata": {
            "needs_background": "light"
          }
        }
      ]
    },
    {
      "cell_type": "code",
      "source": [
        "sns.scatterplot(health['식전혈당(공복혈당)'], health['혈색소'], health['성별코드'])\n",
        "plt.xlabel(\"식전혈당(공복혈당)\")\n",
        "plt.ylabel(\"혈색소\")\n",
        "plt.legend()\n",
        "plt.show()"
      ],
      "metadata": {
        "colab": {
          "base_uri": "https://localhost:8080/",
          "height": 339
        },
        "id": "0SfeEqV52NBb",
        "outputId": "0989c1d8-a510-4f98-9a5d-113024559aab"
      },
      "execution_count": 12,
      "outputs": [
        {
          "output_type": "stream",
          "name": "stderr",
          "text": [
            "/usr/local/lib/python3.7/dist-packages/seaborn/_decorators.py:43: FutureWarning: Pass the following variables as keyword args: x, y, hue. From version 0.12, the only valid positional argument will be `data`, and passing other arguments without an explicit keyword will result in an error or misinterpretation.\n",
            "  FutureWarning\n"
          ]
        },
        {
          "output_type": "display_data",
          "data": {
            "text/plain": [
              "<Figure size 432x288 with 1 Axes>"
            ],
            "image/png": "[encoded data removed]"
          },
          "metadata": {
            "needs_background": "light"
          }
        }
      ]
    },
    {
      "cell_type": "markdown",
      "source": [
        "## **4. 분류(1)_의사결정나무**\n",
        "-종속(타겟)변수: 성별코드"
      ],
      "metadata": {
        "id": "zlBMn6UzPphH"
      }
    },
    {
      "cell_type": "code",
      "source": [
        "health.loc[health[\"성별코드\"] == \"M\", \"성별코드\"] = 0\n",
        "health.loc[health[\"성별코드\"] == \"F\", \"성별코드\"] = 1\n",
        "health[\"성별코드\"] = health[\"성별코드\"].astype('int')\n",
        "\n",
        "#의사결정나무에 사용되는 데이터는 결측치가 없어야 하며 범주형데이터를 숫자 데이터로 바꾸어주어야 함\n",
        "#target 변수인 성별코드를 각각 남성은 0으로, 여성은 1로 인식하게 하고 이를 astype를 활용해 정수(int)로 변환함"
      ],
      "metadata": {
        "id": "pFjo_SMk9UVr",
        "colab": {
          "base_uri": "https://localhost:8080/"
        },
        "outputId": "71b2a5fd-173a-4840-b7a8-a8c7d1bf4170"
      },
      "execution_count": 13,
      "outputs": [
        {
          "output_type": "stream",
          "name": "stderr",
          "text": [
            "/usr/local/lib/python3.7/dist-packages/pandas/core/indexing.py:1817: SettingWithCopyWarning: \n",
            "A value is trying to be set on a copy of a slice from a DataFrame.\n",
            "Try using .loc[row_indexer,col_indexer] = value instead\n",
            "\n",
            "See the caveats in the documentation: https://pandas.pydata.org/pandas-docs/stable/user_guide/indexing.html#returning-a-view-versus-a-copy\n",
            "  self._setitem_single_column(loc, value, pi)\n",
            "/usr/local/lib/python3.7/dist-packages/ipykernel_launcher.py:3: SettingWithCopyWarning: \n",
            "A value is trying to be set on a copy of a slice from a DataFrame.\n",
            "Try using .loc[row_indexer,col_indexer] = value instead\n",
            "\n",
            "See the caveats in the documentation: https://pandas.pydata.org/pandas-docs/stable/user_guide/indexing.html#returning-a-view-versus-a-copy\n",
            "  This is separate from the ipykernel package so we can avoid doing imports until\n"
          ]
        }
      ]
    },
    {
      "cell_type": "code",
      "source": [
        "from sklearn.tree import DecisionTreeClassifier\n",
        "from sklearn.model_selection import train_test_split\n",
        "\n",
        "X = health.iloc[:, 4:] #기준년도, 가입자일련번호, 시도코드 열은 분석과 무관하므로 사용하지 않음.\n",
        "y = health.iloc[:, 3]  #target 변수: 성별코드\n",
        "\n",
        "X_train, X_test, y_train, y_test = train_test_split(X, y, test_size = 0.25, random_state=42)\n",
        "\n",
        "tree = DecisionTreeClassifier(random_state=0)  \n",
        "tree.fit(X_train, y_train)\n",
        "\n",
        "print(\"학습용 데이터 정확도: {:.3f}\".format(tree.score(X_train, y_train)))\n",
        "print(\"시험용 데이터 정확도: {:.3f}\".format(tree.score(X_test, y_test)))\n"
      ],
      "metadata": {
        "colab": {
          "base_uri": "https://localhost:8080/"
        },
        "id": "26dqgzFz9fEo",
        "outputId": "fa431e60-0c2e-4104-96da-ca727e0c1e63"
      },
      "execution_count": 14,
      "outputs": [
        {
          "output_type": "stream",
          "name": "stdout",
          "text": [
            "학습용 데이터 정확도: 1.000\n",
            "시험용 데이터 정확도: 0.912\n"
          ]
        }
      ]
    },
    {
      "cell_type": "code",
      "source": [
        "tree = DecisionTreeClassifier(max_depth=4, random_state=0)\n",
        "tree.fit(X_train, y_train)\n",
        "#과적합을 막기 위해 나무 깊이 4로 제한함\n",
        "\n",
        "print(\"학습용 데이터 정확도: {:.3f}\".format(tree.score(X_train, y_train)))\n",
        "print(\"시험용 데이터 정확도: {:.3f}\".format(tree.score(X_test, y_test)))"
      ],
      "metadata": {
        "colab": {
          "base_uri": "https://localhost:8080/"
        },
        "id": "cBQ2wcwFBsoJ",
        "outputId": "1313b6b0-7d36-4437-e93c-c462c9fc0dc6"
      },
      "execution_count": 15,
      "outputs": [
        {
          "output_type": "stream",
          "name": "stdout",
          "text": [
            "학습용 데이터 정확도: 0.919\n",
            "시험용 데이터 정확도: 0.913\n"
          ]
        }
      ]
    },
    {
      "cell_type": "code",
      "source": [
        "from sklearn.tree import export_graphviz\n",
        "import graphviz\n",
        "export_graphviz(tree, out_file=\"tree.dot\", class_names=[ \"남성\", \"여성\"],\n",
        "                feature_names=X.columns, impurity=False, filled=True)\n",
        "with open(\"tree.dot\") as f:\n",
        "    dot_graph = f.read()\n",
        "\n",
        "display(graphviz.Source(dot_graph))"
      ],
      "metadata": {
        "colab": {
          "base_uri": "https://localhost:8080/",
          "height": 676
        },
        "id": "ABs7XcTdB85B",
        "outputId": "bdb4e031-af42-425b-d287-895d5ed07523"
      },
      "execution_count": 16,
      "outputs": [
        {
          "output_type": "display_data",
          "data": {
            "text/plain": [
              "<graphviz.files.Source at 0x7fd88600c750>"
            ],
            "image/svg+xml": "<?xml version=\"1.0\" encoding=\"UTF-8\" standalone=\"no\"?>\n<!DOCTYPE svg PUBLIC \"-//W3C//DTD SVG 1.1//EN\"\n \"http://www.w3.org/Graphics/SVG/1.1/DTD/svg11.dtd\">\n<!-- Generated by graphviz version 2.40.1 (20161225.0304)\n -->\n<!-- Title: Tree Pages: 1 -->\n<svg width=\"1864pt\" height=\"477pt\"\n viewBox=\"0.00 0.00 1864.00 477.00\" xmlns=\"http://www.w3.org/2000/svg\" xmlns:xlink=\"http://www.w3.org/1999/xlink\">\n<g id=\"graph0\" class=\"graph\" transform=\"scale(1 1) rotate(0) translate(4 473)\">\n<title>Tree</title>\n<polygon fill=\"#ffffff\" stroke=\"transparent\" points=\"-4,4 -4,-473 1860,-473 1860,4 -4,4\"/>\n<!-- 0 -->\n<g id=\"node1\" class=\"node\">\n<title>0</title>\n<polygon fill=\"#fafdfe\" stroke=\"#000000\" points=\"1100.5,-469 929.5,-469 929.5,-401 1100.5,-401 1100.5,-469\"/>\n<text text-anchor=\"middle\" x=\"1015\" y=\"-453.8\" font-family=\"Helvetica,sans-Serif\" font-size=\"14.00\" fill=\"#000000\">신장(5Cm단위) &lt;= 162.5</text>\n<text text-anchor=\"middle\" x=\"1015\" y=\"-438.8\" font-family=\"Helvetica,sans-Serif\" font-size=\"14.00\" fill=\"#000000\">samples = 2967</text>\n<text text-anchor=\"middle\" x=\"1015\" y=\"-423.8\" font-family=\"Helvetica,sans-Serif\" font-size=\"14.00\" fill=\"#000000\">value = [1465, 1502]</text>\n<text text-anchor=\"middle\" x=\"1015\" y=\"-408.8\" font-family=\"Helvetica,sans-Serif\" font-size=\"14.00\" fill=\"#000000\">class = 여성</text>\n</g>\n<!-- 1 -->\n<g id=\"node2\" class=\"node\">\n<title>1</title>\n<polygon fill=\"#68b4eb\" stroke=\"#000000\" points=\"862,-365 722,-365 722,-297 862,-297 862,-365\"/>\n<text text-anchor=\"middle\" x=\"792\" y=\"-349.8\" font-family=\"Helvetica,sans-Serif\" font-size=\"14.00\" fill=\"#000000\">혈색소 &lt;= 15.15</text>\n<text text-anchor=\"middle\" x=\"792\" y=\"-334.8\" font-family=\"Helvetica,sans-Serif\" font-size=\"14.00\" fill=\"#000000\">samples = 1700</text>\n<text text-anchor=\"middle\" x=\"792\" y=\"-319.8\" font-family=\"Helvetica,sans-Serif\" font-size=\"14.00\" fill=\"#000000\">value = [324, 1376]</text>\n<text text-anchor=\"middle\" x=\"792\" y=\"-304.8\" font-family=\"Helvetica,sans-Serif\" font-size=\"14.00\" fill=\"#000000\">class = 여성</text>\n</g>\n<!-- 0&#45;&gt;1 -->\n<g id=\"edge1\" class=\"edge\">\n<title>0&#45;&gt;1</title>\n<path fill=\"none\" stroke=\"#000000\" d=\"M941.9815,-400.9465C919.3295,-390.3824 894.2624,-378.6919 871.2105,-367.9412\"/>\n<polygon fill=\"#000000\" stroke=\"#000000\" points=\"872.6896,-364.7691 862.1474,-363.7145 869.7309,-371.1132 872.6896,-364.7691\"/>\n<text text-anchor=\"middle\" x=\"870.6967\" y=\"-383.5072\" font-family=\"Helvetica,sans-Serif\" font-size=\"14.00\" fill=\"#000000\">True</text>\n</g>\n<!-- 16 -->\n<g id=\"node17\" class=\"node\">\n<title>16</title>\n<polygon fill=\"#e88f4f\" stroke=\"#000000\" points=\"1332,-365 1192,-365 1192,-297 1332,-297 1332,-365\"/>\n<text text-anchor=\"middle\" x=\"1262\" y=\"-349.8\" font-family=\"Helvetica,sans-Serif\" font-size=\"14.00\" fill=\"#000000\">혈색소 &lt;= 14.35</text>\n<text text-anchor=\"middle\" x=\"1262\" y=\"-334.8\" font-family=\"Helvetica,sans-Serif\" font-size=\"14.00\" fill=\"#000000\">samples = 1267</text>\n<text text-anchor=\"middle\" x=\"1262\" y=\"-319.8\" font-family=\"Helvetica,sans-Serif\" font-size=\"14.00\" fill=\"#000000\">value = [1141, 126]</text>\n<text text-anchor=\"middle\" x=\"1262\" y=\"-304.8\" font-family=\"Helvetica,sans-Serif\" font-size=\"14.00\" fill=\"#000000\">class = 남성</text>\n</g>\n<!-- 0&#45;&gt;16 -->\n<g id=\"edge16\" class=\"edge\">\n<title>0&#45;&gt;16</title>\n<path fill=\"none\" stroke=\"#000000\" d=\"M1095.877,-400.9465C1123.6862,-389.2374 1154.7818,-376.1445 1182.4819,-364.4813\"/>\n<polygon fill=\"#000000\" stroke=\"#000000\" points=\"1183.8779,-367.6912 1191.736,-360.5848 1181.1614,-361.2397 1183.8779,-367.6912\"/>\n<text text-anchor=\"middle\" x=\"1182.3036\" y=\"-380.0371\" font-family=\"Helvetica,sans-Serif\" font-size=\"14.00\" fill=\"#000000\">False</text>\n</g>\n<!-- 2 -->\n<g id=\"node3\" class=\"node\">\n<title>2</title>\n<polygon fill=\"#55abe9\" stroke=\"#000000\" points=\"513,-261 349,-261 349,-193 513,-193 513,-261\"/>\n<text text-anchor=\"middle\" x=\"431\" y=\"-245.8\" font-family=\"Helvetica,sans-Serif\" font-size=\"14.00\" fill=\"#000000\">혈청크레아티닌 &lt;= 0.95</text>\n<text text-anchor=\"middle\" x=\"431\" y=\"-230.8\" font-family=\"Helvetica,sans-Serif\" font-size=\"14.00\" fill=\"#000000\">samples = 1519</text>\n<text text-anchor=\"middle\" x=\"431\" y=\"-215.8\" font-family=\"Helvetica,sans-Serif\" font-size=\"14.00\" fill=\"#000000\">value = [187, 1332]</text>\n<text text-anchor=\"middle\" x=\"431\" y=\"-200.8\" font-family=\"Helvetica,sans-Serif\" font-size=\"14.00\" fill=\"#000000\">class = 여성</text>\n</g>\n<!-- 1&#45;&gt;2 -->\n<g id=\"edge2\" class=\"edge\">\n<title>1&#45;&gt;2</title>\n<path fill=\"none\" stroke=\"#000000\" d=\"M721.9675,-310.8244C665.2333,-294.48 584.8407,-271.3198 522.9305,-253.4841\"/>\n<polygon fill=\"#000000\" stroke=\"#000000\" points=\"523.7376,-250.0744 513.1594,-250.6692 521.7997,-256.8008 523.7376,-250.0744\"/>\n</g>\n<!-- 9 -->\n<g id=\"node10\" class=\"node\">\n<title>9</title>\n<polygon fill=\"#eda979\" stroke=\"#000000\" points=\"877.5,-261 706.5,-261 706.5,-193 877.5,-193 877.5,-261\"/>\n<text text-anchor=\"middle\" x=\"792\" y=\"-245.8\" font-family=\"Helvetica,sans-Serif\" font-size=\"14.00\" fill=\"#000000\">신장(5Cm단위) &lt;= 157.5</text>\n<text text-anchor=\"middle\" x=\"792\" y=\"-230.8\" font-family=\"Helvetica,sans-Serif\" font-size=\"14.00\" fill=\"#000000\">samples = 181</text>\n<text text-anchor=\"middle\" x=\"792\" y=\"-215.8\" font-family=\"Helvetica,sans-Serif\" font-size=\"14.00\" fill=\"#000000\">value = [137, 44]</text>\n<text text-anchor=\"middle\" x=\"792\" y=\"-200.8\" font-family=\"Helvetica,sans-Serif\" font-size=\"14.00\" fill=\"#000000\">class = 남성</text>\n</g>\n<!-- 1&#45;&gt;9 -->\n<g id=\"edge9\" class=\"edge\">\n<title>1&#45;&gt;9</title>\n<path fill=\"none\" stroke=\"#000000\" d=\"M792,-296.9465C792,-288.776 792,-279.9318 792,-271.3697\"/>\n<polygon fill=\"#000000\" stroke=\"#000000\" points=\"795.5001,-271.13 792,-261.13 788.5001,-271.13 795.5001,-271.13\"/>\n</g>\n<!-- 3 -->\n<g id=\"node4\" class=\"node\">\n<title>3</title>\n<polygon fill=\"#49a5e7\" stroke=\"#000000\" points=\"289.5,-157 118.5,-157 118.5,-89 289.5,-89 289.5,-157\"/>\n<text text-anchor=\"middle\" x=\"204\" y=\"-141.8\" font-family=\"Helvetica,sans-Serif\" font-size=\"14.00\" fill=\"#000000\">신장(5Cm단위) &lt;= 157.5</text>\n<text text-anchor=\"middle\" x=\"204\" y=\"-126.8\" font-family=\"Helvetica,sans-Serif\" font-size=\"14.00\" fill=\"#000000\">samples = 1346</text>\n<text text-anchor=\"middle\" x=\"204\" y=\"-111.8\" font-family=\"Helvetica,sans-Serif\" font-size=\"14.00\" fill=\"#000000\">value = [102, 1244]</text>\n<text text-anchor=\"middle\" x=\"204\" y=\"-96.8\" font-family=\"Helvetica,sans-Serif\" font-size=\"14.00\" fill=\"#000000\">class = 여성</text>\n</g>\n<!-- 2&#45;&gt;3 -->\n<g id=\"edge3\" class=\"edge\">\n<title>2&#45;&gt;3</title>\n<path fill=\"none\" stroke=\"#000000\" d=\"M356.6717,-192.9465C334.6247,-182.8457 310.33,-171.7151 287.7299,-161.3608\"/>\n<polygon fill=\"#000000\" stroke=\"#000000\" points=\"289.0444,-158.1133 278.4953,-157.13 286.1287,-164.4772 289.0444,-158.1133\"/>\n</g>\n<!-- 6 -->\n<g id=\"node7\" class=\"node\">\n<title>6</title>\n<polygon fill=\"#f8fcfe\" stroke=\"#000000\" points=\"516.5,-157 345.5,-157 345.5,-89 516.5,-89 516.5,-157\"/>\n<text text-anchor=\"middle\" x=\"431\" y=\"-141.8\" font-family=\"Helvetica,sans-Serif\" font-size=\"14.00\" fill=\"#000000\">신장(5Cm단위) &lt;= 152.5</text>\n<text text-anchor=\"middle\" x=\"431\" y=\"-126.8\" font-family=\"Helvetica,sans-Serif\" font-size=\"14.00\" fill=\"#000000\">samples = 173</text>\n<text text-anchor=\"middle\" x=\"431\" y=\"-111.8\" font-family=\"Helvetica,sans-Serif\" font-size=\"14.00\" fill=\"#000000\">value = [85, 88]</text>\n<text text-anchor=\"middle\" x=\"431\" y=\"-96.8\" font-family=\"Helvetica,sans-Serif\" font-size=\"14.00\" fill=\"#000000\">class = 여성</text>\n</g>\n<!-- 2&#45;&gt;6 -->\n<g id=\"edge6\" class=\"edge\">\n<title>2&#45;&gt;6</title>\n<path fill=\"none\" stroke=\"#000000\" d=\"M431,-192.9465C431,-184.776 431,-175.9318 431,-167.3697\"/>\n<polygon fill=\"#000000\" stroke=\"#000000\" points=\"434.5001,-167.13 431,-157.13 427.5001,-167.13 434.5001,-167.13\"/>\n</g>\n<!-- 4 -->\n<g id=\"node5\" class=\"node\">\n<title>4</title>\n<polygon fill=\"#3fa0e6\" stroke=\"#000000\" points=\"124,-53 0,-53 0,0 124,0 124,-53\"/>\n<text text-anchor=\"middle\" x=\"62\" y=\"-37.8\" font-family=\"Helvetica,sans-Serif\" font-size=\"14.00\" fill=\"#000000\">samples = 971</text>\n<text text-anchor=\"middle\" x=\"62\" y=\"-22.8\" font-family=\"Helvetica,sans-Serif\" font-size=\"14.00\" fill=\"#000000\">value = [27, 944]</text>\n<text text-anchor=\"middle\" x=\"62\" y=\"-7.8\" font-family=\"Helvetica,sans-Serif\" font-size=\"14.00\" fill=\"#000000\">class = 여성</text>\n</g>\n<!-- 3&#45;&gt;4 -->\n<g id=\"edge4\" class=\"edge\">\n<title>3&#45;&gt;4</title>\n<path fill=\"none\" stroke=\"#000000\" d=\"M153.9361,-88.9777C139.6531,-79.2713 124.1287,-68.7213 109.9737,-59.1018\"/>\n<polygon fill=\"#000000\" stroke=\"#000000\" points=\"111.5986,-55.9744 101.3605,-53.2485 107.6641,-61.764 111.5986,-55.9744\"/>\n</g>\n<!-- 5 -->\n<g id=\"node6\" class=\"node\">\n<title>5</title>\n<polygon fill=\"#6ab6ec\" stroke=\"#000000\" points=\"266,-53 142,-53 142,0 266,0 266,-53\"/>\n<text text-anchor=\"middle\" x=\"204\" y=\"-37.8\" font-family=\"Helvetica,sans-Serif\" font-size=\"14.00\" fill=\"#000000\">samples = 375</text>\n<text text-anchor=\"middle\" x=\"204\" y=\"-22.8\" font-family=\"Helvetica,sans-Serif\" font-size=\"14.00\" fill=\"#000000\">value = [75, 300]</text>\n<text text-anchor=\"middle\" x=\"204\" y=\"-7.8\" font-family=\"Helvetica,sans-Serif\" font-size=\"14.00\" fill=\"#000000\">class = 여성</text>\n</g>\n<!-- 3&#45;&gt;5 -->\n<g id=\"edge5\" class=\"edge\">\n<title>3&#45;&gt;5</title>\n<path fill=\"none\" stroke=\"#000000\" d=\"M204,-88.9777C204,-80.7364 204,-71.887 204,-63.5153\"/>\n<polygon fill=\"#000000\" stroke=\"#000000\" points=\"207.5001,-63.2484 204,-53.2485 200.5001,-63.2485 207.5001,-63.2484\"/>\n</g>\n<!-- 7 -->\n<g id=\"node8\" class=\"node\">\n<title>7</title>\n<polygon fill=\"#58ade9\" stroke=\"#000000\" points=\"391.5,-53 284.5,-53 284.5,0 391.5,0 391.5,-53\"/>\n<text text-anchor=\"middle\" x=\"338\" y=\"-37.8\" font-family=\"Helvetica,sans-Serif\" font-size=\"14.00\" fill=\"#000000\">samples = 51</text>\n<text text-anchor=\"middle\" x=\"338\" y=\"-22.8\" font-family=\"Helvetica,sans-Serif\" font-size=\"14.00\" fill=\"#000000\">value = [7, 44]</text>\n<text text-anchor=\"middle\" x=\"338\" y=\"-7.8\" font-family=\"Helvetica,sans-Serif\" font-size=\"14.00\" fill=\"#000000\">class = 여성</text>\n</g>\n<!-- 6&#45;&gt;7 -->\n<g id=\"edge7\" class=\"edge\">\n<title>6&#45;&gt;7</title>\n<path fill=\"none\" stroke=\"#000000\" d=\"M398.2117,-88.9777C389.2986,-79.7292 379.6473,-69.7147 370.7371,-60.4691\"/>\n<polygon fill=\"#000000\" stroke=\"#000000\" points=\"373.2378,-58.0202 363.7783,-53.2485 368.1975,-62.8777 373.2378,-58.0202\"/>\n</g>\n<!-- 8 -->\n<g id=\"node9\" class=\"node\">\n<title>8</title>\n<polygon fill=\"#f4c8a9\" stroke=\"#000000\" points=\"526,-53 410,-53 410,0 526,0 526,-53\"/>\n<text text-anchor=\"middle\" x=\"468\" y=\"-37.8\" font-family=\"Helvetica,sans-Serif\" font-size=\"14.00\" fill=\"#000000\">samples = 122</text>\n<text text-anchor=\"middle\" x=\"468\" y=\"-22.8\" font-family=\"Helvetica,sans-Serif\" font-size=\"14.00\" fill=\"#000000\">value = [78, 44]</text>\n<text text-anchor=\"middle\" x=\"468\" y=\"-7.8\" font-family=\"Helvetica,sans-Serif\" font-size=\"14.00\" fill=\"#000000\">class = 남성</text>\n</g>\n<!-- 6&#45;&gt;8 -->\n<g id=\"edge8\" class=\"edge\">\n<title>6&#45;&gt;8</title>\n<path fill=\"none\" stroke=\"#000000\" d=\"M444.0448,-88.9777C447.31,-80.4617 450.8242,-71.2963 454.128,-62.6798\"/>\n<polygon fill=\"#000000\" stroke=\"#000000\" points=\"457.432,-63.8387 457.7441,-53.2485 450.896,-61.3326 457.432,-63.8387\"/>\n</g>\n<!-- 10 -->\n<g id=\"node11\" class=\"node\">\n<title>10</title>\n<polygon fill=\"#d0e8f9\" stroke=\"#000000\" points=\"790,-157 626,-157 626,-89 790,-89 790,-157\"/>\n<text text-anchor=\"middle\" x=\"708\" y=\"-141.8\" font-family=\"Helvetica,sans-Serif\" font-size=\"14.00\" fill=\"#000000\">혈청크레아티닌 &lt;= 0.95</text>\n<text text-anchor=\"middle\" x=\"708\" y=\"-126.8\" font-family=\"Helvetica,sans-Serif\" font-size=\"14.00\" fill=\"#000000\">samples = 67</text>\n<text text-anchor=\"middle\" x=\"708\" y=\"-111.8\" font-family=\"Helvetica,sans-Serif\" font-size=\"14.00\" fill=\"#000000\">value = [29, 38]</text>\n<text text-anchor=\"middle\" x=\"708\" y=\"-96.8\" font-family=\"Helvetica,sans-Serif\" font-size=\"14.00\" fill=\"#000000\">class = 여성</text>\n</g>\n<!-- 9&#45;&gt;10 -->\n<g id=\"edge10\" class=\"edge\">\n<title>9&#45;&gt;10</title>\n<path fill=\"none\" stroke=\"#000000\" d=\"M764.4953,-192.9465C757.3159,-184.0578 749.4924,-174.3716 742.019,-165.1188\"/>\n<polygon fill=\"#000000\" stroke=\"#000000\" points=\"744.5727,-162.7102 735.5665,-157.13 739.1271,-167.1086 744.5727,-162.7102\"/>\n</g>\n<!-- 13 -->\n<g id=\"node14\" class=\"node\">\n<title>13</title>\n<polygon fill=\"#e68844\" stroke=\"#000000\" points=\"945.5,-157 808.5,-157 808.5,-89 945.5,-89 945.5,-157\"/>\n<text text-anchor=\"middle\" x=\"877\" y=\"-141.8\" font-family=\"Helvetica,sans-Serif\" font-size=\"14.00\" fill=\"#000000\">감마지티피 &lt;= 13.0</text>\n<text text-anchor=\"middle\" x=\"877\" y=\"-126.8\" font-family=\"Helvetica,sans-Serif\" font-size=\"14.00\" fill=\"#000000\">samples = 114</text>\n<text text-anchor=\"middle\" x=\"877\" y=\"-111.8\" font-family=\"Helvetica,sans-Serif\" font-size=\"14.00\" fill=\"#000000\">value = [108, 6]</text>\n<text text-anchor=\"middle\" x=\"877\" y=\"-96.8\" font-family=\"Helvetica,sans-Serif\" font-size=\"14.00\" fill=\"#000000\">class = 남성</text>\n</g>\n<!-- 9&#45;&gt;13 -->\n<g id=\"edge13\" class=\"edge\">\n<title>9&#45;&gt;13</title>\n<path fill=\"none\" stroke=\"#000000\" d=\"M819.8322,-192.9465C827.097,-184.0578 835.0136,-174.3716 842.576,-165.1188\"/>\n<polygon fill=\"#000000\" stroke=\"#000000\" points=\"845.487,-167.0878 849.1053,-157.13 840.0669,-162.658 845.487,-167.0878\"/>\n</g>\n<!-- 11 -->\n<g id=\"node12\" class=\"node\">\n<title>11</title>\n<polygon fill=\"#84c2ef\" stroke=\"#000000\" points=\"660,-53 544,-53 544,0 660,0 660,-53\"/>\n<text text-anchor=\"middle\" x=\"602\" y=\"-37.8\" font-family=\"Helvetica,sans-Serif\" font-size=\"14.00\" fill=\"#000000\">samples = 51</text>\n<text text-anchor=\"middle\" x=\"602\" y=\"-22.8\" font-family=\"Helvetica,sans-Serif\" font-size=\"14.00\" fill=\"#000000\">value = [14, 37]</text>\n<text text-anchor=\"middle\" x=\"602\" y=\"-7.8\" font-family=\"Helvetica,sans-Serif\" font-size=\"14.00\" fill=\"#000000\">class = 여성</text>\n</g>\n<!-- 10&#45;&gt;11 -->\n<g id=\"edge11\" class=\"edge\">\n<title>10&#45;&gt;11</title>\n<path fill=\"none\" stroke=\"#000000\" d=\"M670.6284,-88.9777C660.3688,-79.6376 649.2511,-69.5163 639.0118,-60.1947\"/>\n<polygon fill=\"#000000\" stroke=\"#000000\" points=\"641.1326,-57.3923 631.3817,-53.2485 636.4202,-62.5686 641.1326,-57.3923\"/>\n</g>\n<!-- 12 -->\n<g id=\"node13\" class=\"node\">\n<title>12</title>\n<polygon fill=\"#e78946\" stroke=\"#000000\" points=\"785.5,-53 678.5,-53 678.5,0 785.5,0 785.5,-53\"/>\n<text text-anchor=\"middle\" x=\"732\" y=\"-37.8\" font-family=\"Helvetica,sans-Serif\" font-size=\"14.00\" fill=\"#000000\">samples = 16</text>\n<text text-anchor=\"middle\" x=\"732\" y=\"-22.8\" font-family=\"Helvetica,sans-Serif\" font-size=\"14.00\" fill=\"#000000\">value = [15, 1]</text>\n<text text-anchor=\"middle\" x=\"732\" y=\"-7.8\" font-family=\"Helvetica,sans-Serif\" font-size=\"14.00\" fill=\"#000000\">class = 남성</text>\n</g>\n<!-- 10&#45;&gt;12 -->\n<g id=\"edge12\" class=\"edge\">\n<title>10&#45;&gt;12</title>\n<path fill=\"none\" stroke=\"#000000\" d=\"M716.4615,-88.9777C718.5567,-80.5533 720.8099,-71.4934 722.9327,-62.9579\"/>\n<polygon fill=\"#000000\" stroke=\"#000000\" points=\"726.3305,-63.7976 725.3475,-53.2485 719.5374,-62.1081 726.3305,-63.7976\"/>\n</g>\n<!-- 14 -->\n<g id=\"node15\" class=\"node\">\n<title>14</title>\n<polygon fill=\"#9ccef2\" stroke=\"#000000\" points=\"902.5,-53 803.5,-53 803.5,0 902.5,0 902.5,-53\"/>\n<text text-anchor=\"middle\" x=\"853\" y=\"-37.8\" font-family=\"Helvetica,sans-Serif\" font-size=\"14.00\" fill=\"#000000\">samples = 3</text>\n<text text-anchor=\"middle\" x=\"853\" y=\"-22.8\" font-family=\"Helvetica,sans-Serif\" font-size=\"14.00\" fill=\"#000000\">value = [1, 2]</text>\n<text text-anchor=\"middle\" x=\"853\" y=\"-7.8\" font-family=\"Helvetica,sans-Serif\" font-size=\"14.00\" fill=\"#000000\">class = 여성</text>\n</g>\n<!-- 13&#45;&gt;14 -->\n<g id=\"edge14\" class=\"edge\">\n<title>13&#45;&gt;14</title>\n<path fill=\"none\" stroke=\"#000000\" d=\"M868.5385,-88.9777C866.4433,-80.5533 864.1901,-71.4934 862.0673,-62.9579\"/>\n<polygon fill=\"#000000\" stroke=\"#000000\" points=\"865.4626,-62.1081 859.6525,-53.2485 858.6695,-63.7976 865.4626,-62.1081\"/>\n</g>\n<!-- 15 -->\n<g id=\"node16\" class=\"node\">\n<title>15</title>\n<polygon fill=\"#e68640\" stroke=\"#000000\" points=\"1037,-53 921,-53 921,0 1037,0 1037,-53\"/>\n<text text-anchor=\"middle\" x=\"979\" y=\"-37.8\" font-family=\"Helvetica,sans-Serif\" font-size=\"14.00\" fill=\"#000000\">samples = 111</text>\n<text text-anchor=\"middle\" x=\"979\" y=\"-22.8\" font-family=\"Helvetica,sans-Serif\" font-size=\"14.00\" fill=\"#000000\">value = [107, 4]</text>\n<text text-anchor=\"middle\" x=\"979\" y=\"-7.8\" font-family=\"Helvetica,sans-Serif\" font-size=\"14.00\" fill=\"#000000\">class = 남성</text>\n</g>\n<!-- 13&#45;&gt;15 -->\n<g id=\"edge15\" class=\"edge\">\n<title>13&#45;&gt;15</title>\n<path fill=\"none\" stroke=\"#000000\" d=\"M912.9614,-88.9777C922.8338,-79.6376 933.532,-69.5163 943.3849,-60.1947\"/>\n<polygon fill=\"#000000\" stroke=\"#000000\" points=\"945.8682,-62.6635 950.727,-53.2485 941.0574,-57.5785 945.8682,-62.6635\"/>\n</g>\n<!-- 17 -->\n<g id=\"node18\" class=\"node\">\n<title>17</title>\n<polygon fill=\"#f1bc96\" stroke=\"#000000\" points=\"1344,-261 1180,-261 1180,-193 1344,-193 1344,-261\"/>\n<text text-anchor=\"middle\" x=\"1262\" y=\"-245.8\" font-family=\"Helvetica,sans-Serif\" font-size=\"14.00\" fill=\"#000000\">혈청크레아티닌 &lt;= 0.85</text>\n<text text-anchor=\"middle\" x=\"1262\" y=\"-230.8\" font-family=\"Helvetica,sans-Serif\" font-size=\"14.00\" fill=\"#000000\">samples = 345</text>\n<text text-anchor=\"middle\" x=\"1262\" y=\"-215.8\" font-family=\"Helvetica,sans-Serif\" font-size=\"14.00\" fill=\"#000000\">value = [235, 110]</text>\n<text text-anchor=\"middle\" x=\"1262\" y=\"-200.8\" font-family=\"Helvetica,sans-Serif\" font-size=\"14.00\" fill=\"#000000\">class = 남성</text>\n</g>\n<!-- 16&#45;&gt;17 -->\n<g id=\"edge17\" class=\"edge\">\n<title>16&#45;&gt;17</title>\n<path fill=\"none\" stroke=\"#000000\" d=\"M1262,-296.9465C1262,-288.776 1262,-279.9318 1262,-271.3697\"/>\n<polygon fill=\"#000000\" stroke=\"#000000\" points=\"1265.5001,-271.13 1262,-261.13 1258.5001,-271.13 1265.5001,-271.13\"/>\n</g>\n<!-- 24 -->\n<g id=\"node25\" class=\"node\">\n<title>24</title>\n<polygon fill=\"#e5833c\" stroke=\"#000000\" points=\"1610,-261 1446,-261 1446,-193 1610,-193 1610,-261\"/>\n<text text-anchor=\"middle\" x=\"1528\" y=\"-245.8\" font-family=\"Helvetica,sans-Serif\" font-size=\"14.00\" fill=\"#000000\">혈청크레아티닌 &lt;= 0.55</text>\n<text text-anchor=\"middle\" x=\"1528\" y=\"-230.8\" font-family=\"Helvetica,sans-Serif\" font-size=\"14.00\" fill=\"#000000\">samples = 922</text>\n<text text-anchor=\"middle\" x=\"1528\" y=\"-215.8\" font-family=\"Helvetica,sans-Serif\" font-size=\"14.00\" fill=\"#000000\">value = [906, 16]</text>\n<text text-anchor=\"middle\" x=\"1528\" y=\"-200.8\" font-family=\"Helvetica,sans-Serif\" font-size=\"14.00\" fill=\"#000000\">class = 남성</text>\n</g>\n<!-- 16&#45;&gt;24 -->\n<g id=\"edge24\" class=\"edge\">\n<title>16&#45;&gt;24</title>\n<path fill=\"none\" stroke=\"#000000\" d=\"M1332.2363,-303.5392C1364.0332,-291.1073 1402.0402,-276.2474 1436.0698,-262.9426\"/>\n<polygon fill=\"#000000\" stroke=\"#000000\" points=\"1437.515,-266.1357 1445.554,-259.2345 1434.966,-259.6162 1437.515,-266.1357\"/>\n</g>\n<!-- 18 -->\n<g id=\"node19\" class=\"node\">\n<title>18</title>\n<polygon fill=\"#cee6f8\" stroke=\"#000000\" points=\"1276,-157 1082,-157 1082,-89 1276,-89 1276,-157\"/>\n<text text-anchor=\"middle\" x=\"1179\" y=\"-141.8\" font-family=\"Helvetica,sans-Serif\" font-size=\"14.00\" fill=\"#000000\">연령대코드(5세단위) &lt;= 12.5</text>\n<text text-anchor=\"middle\" x=\"1179\" y=\"-126.8\" font-family=\"Helvetica,sans-Serif\" font-size=\"14.00\" fill=\"#000000\">samples = 168</text>\n<text text-anchor=\"middle\" x=\"1179\" y=\"-111.8\" font-family=\"Helvetica,sans-Serif\" font-size=\"14.00\" fill=\"#000000\">value = [72, 96]</text>\n<text text-anchor=\"middle\" x=\"1179\" y=\"-96.8\" font-family=\"Helvetica,sans-Serif\" font-size=\"14.00\" fill=\"#000000\">class = 여성</text>\n</g>\n<!-- 17&#45;&gt;18 -->\n<g id=\"edge18\" class=\"edge\">\n<title>17&#45;&gt;18</title>\n<path fill=\"none\" stroke=\"#000000\" d=\"M1234.8227,-192.9465C1227.7288,-184.0578 1219.9985,-174.3716 1212.614,-165.1188\"/>\n<polygon fill=\"#000000\" stroke=\"#000000\" points=\"1215.2118,-162.7628 1206.2384,-157.13 1209.7406,-167.1293 1215.2118,-162.7628\"/>\n</g>\n<!-- 21 -->\n<g id=\"node22\" class=\"node\">\n<title>21</title>\n<polygon fill=\"#e78c4a\" stroke=\"#000000\" points=\"1460,-157 1294,-157 1294,-89 1460,-89 1460,-157\"/>\n<text text-anchor=\"middle\" x=\"1377\" y=\"-141.8\" font-family=\"Helvetica,sans-Serif\" font-size=\"14.00\" fill=\"#000000\">HDL콜레스테롤 &lt;= 76.0</text>\n<text text-anchor=\"middle\" x=\"1377\" y=\"-126.8\" font-family=\"Helvetica,sans-Serif\" font-size=\"14.00\" fill=\"#000000\">samples = 177</text>\n<text text-anchor=\"middle\" x=\"1377\" y=\"-111.8\" font-family=\"Helvetica,sans-Serif\" font-size=\"14.00\" fill=\"#000000\">value = [163, 14]</text>\n<text text-anchor=\"middle\" x=\"1377\" y=\"-96.8\" font-family=\"Helvetica,sans-Serif\" font-size=\"14.00\" fill=\"#000000\">class = 남성</text>\n</g>\n<!-- 17&#45;&gt;21 -->\n<g id=\"edge21\" class=\"edge\">\n<title>17&#45;&gt;21</title>\n<path fill=\"none\" stroke=\"#000000\" d=\"M1299.6553,-192.9465C1309.8813,-183.6986 1321.0618,-173.5876 1331.6641,-163.9994\"/>\n<polygon fill=\"#000000\" stroke=\"#000000\" points=\"1334.1908,-166.4334 1339.2601,-157.13 1329.4956,-161.2416 1334.1908,-166.4334\"/>\n</g>\n<!-- 19 -->\n<g id=\"node20\" class=\"node\">\n<title>19</title>\n<polygon fill=\"#84c2ef\" stroke=\"#000000\" points=\"1171,-53 1055,-53 1055,0 1171,0 1171,-53\"/>\n<text text-anchor=\"middle\" x=\"1113\" y=\"-37.8\" font-family=\"Helvetica,sans-Serif\" font-size=\"14.00\" fill=\"#000000\">samples = 124</text>\n<text text-anchor=\"middle\" x=\"1113\" y=\"-22.8\" font-family=\"Helvetica,sans-Serif\" font-size=\"14.00\" fill=\"#000000\">value = [34, 90]</text>\n<text text-anchor=\"middle\" x=\"1113\" y=\"-7.8\" font-family=\"Helvetica,sans-Serif\" font-size=\"14.00\" fill=\"#000000\">class = 여성</text>\n</g>\n<!-- 18&#45;&gt;19 -->\n<g id=\"edge19\" class=\"edge\">\n<title>18&#45;&gt;19</title>\n<path fill=\"none\" stroke=\"#000000\" d=\"M1155.7309,-88.9777C1149.656,-80.0954 1143.0979,-70.5067 1136.9865,-61.5711\"/>\n<polygon fill=\"#000000\" stroke=\"#000000\" points=\"1139.8286,-59.5267 1131.2943,-53.2485 1134.0507,-63.4785 1139.8286,-59.5267\"/>\n</g>\n<!-- 20 -->\n<g id=\"node21\" class=\"node\">\n<title>20</title>\n<polygon fill=\"#e99558\" stroke=\"#000000\" points=\"1296.5,-53 1189.5,-53 1189.5,0 1296.5,0 1296.5,-53\"/>\n<text text-anchor=\"middle\" x=\"1243\" y=\"-37.8\" font-family=\"Helvetica,sans-Serif\" font-size=\"14.00\" fill=\"#000000\">samples = 44</text>\n<text text-anchor=\"middle\" x=\"1243\" y=\"-22.8\" font-family=\"Helvetica,sans-Serif\" font-size=\"14.00\" fill=\"#000000\">value = [38, 6]</text>\n<text text-anchor=\"middle\" x=\"1243\" y=\"-7.8\" font-family=\"Helvetica,sans-Serif\" font-size=\"14.00\" fill=\"#000000\">class = 남성</text>\n</g>\n<!-- 18&#45;&gt;20 -->\n<g id=\"edge20\" class=\"edge\">\n<title>18&#45;&gt;20</title>\n<path fill=\"none\" stroke=\"#000000\" d=\"M1201.564,-88.9777C1207.3941,-80.187 1213.6831,-70.7044 1219.557,-61.8477\"/>\n<polygon fill=\"#000000\" stroke=\"#000000\" points=\"1222.6498,-63.5167 1225.2601,-53.2485 1216.8162,-59.6478 1222.6498,-63.5167\"/>\n</g>\n<!-- 22 -->\n<g id=\"node23\" class=\"node\">\n<title>22</title>\n<polygon fill=\"#e78946\" stroke=\"#000000\" points=\"1439,-53 1315,-53 1315,0 1439,0 1439,-53\"/>\n<text text-anchor=\"middle\" x=\"1377\" y=\"-37.8\" font-family=\"Helvetica,sans-Serif\" font-size=\"14.00\" fill=\"#000000\">samples = 167</text>\n<text text-anchor=\"middle\" x=\"1377\" y=\"-22.8\" font-family=\"Helvetica,sans-Serif\" font-size=\"14.00\" fill=\"#000000\">value = [157, 10]</text>\n<text text-anchor=\"middle\" x=\"1377\" y=\"-7.8\" font-family=\"Helvetica,sans-Serif\" font-size=\"14.00\" fill=\"#000000\">class = 남성</text>\n</g>\n<!-- 21&#45;&gt;22 -->\n<g id=\"edge22\" class=\"edge\">\n<title>21&#45;&gt;22</title>\n<path fill=\"none\" stroke=\"#000000\" d=\"M1377,-88.9777C1377,-80.7364 1377,-71.887 1377,-63.5153\"/>\n<polygon fill=\"#000000\" stroke=\"#000000\" points=\"1380.5001,-63.2484 1377,-53.2485 1373.5001,-63.2485 1380.5001,-63.2484\"/>\n</g>\n<!-- 23 -->\n<g id=\"node24\" class=\"node\">\n<title>23</title>\n<polygon fill=\"#f6d5bd\" stroke=\"#000000\" points=\"1561,-53 1457,-53 1457,0 1561,0 1561,-53\"/>\n<text text-anchor=\"middle\" x=\"1509\" y=\"-37.8\" font-family=\"Helvetica,sans-Serif\" font-size=\"14.00\" fill=\"#000000\">samples = 10</text>\n<text text-anchor=\"middle\" x=\"1509\" y=\"-22.8\" font-family=\"Helvetica,sans-Serif\" font-size=\"14.00\" fill=\"#000000\">value = [6, 4]</text>\n<text text-anchor=\"middle\" x=\"1509\" y=\"-7.8\" font-family=\"Helvetica,sans-Serif\" font-size=\"14.00\" fill=\"#000000\">class = 남성</text>\n</g>\n<!-- 21&#45;&gt;23 -->\n<g id=\"edge23\" class=\"edge\">\n<title>21&#45;&gt;23</title>\n<path fill=\"none\" stroke=\"#000000\" d=\"M1423.5383,-88.9777C1436.6901,-79.3629 1450.9743,-68.9203 1464.032,-59.3743\"/>\n<polygon fill=\"#000000\" stroke=\"#000000\" points=\"1466.4042,-61.9757 1472.4114,-53.2485 1462.273,-56.3247 1466.4042,-61.9757\"/>\n</g>\n<!-- 25 -->\n<g id=\"node26\" class=\"node\">\n<title>25</title>\n<polygon fill=\"#399de5\" stroke=\"#000000\" points=\"1577.5,-149.5 1478.5,-149.5 1478.5,-96.5 1577.5,-96.5 1577.5,-149.5\"/>\n<text text-anchor=\"middle\" x=\"1528\" y=\"-134.3\" font-family=\"Helvetica,sans-Serif\" font-size=\"14.00\" fill=\"#000000\">samples = 2</text>\n<text text-anchor=\"middle\" x=\"1528\" y=\"-119.3\" font-family=\"Helvetica,sans-Serif\" font-size=\"14.00\" fill=\"#000000\">value = [0, 2]</text>\n<text text-anchor=\"middle\" x=\"1528\" y=\"-104.3\" font-family=\"Helvetica,sans-Serif\" font-size=\"14.00\" fill=\"#000000\">class = 여성</text>\n</g>\n<!-- 24&#45;&gt;25 -->\n<g id=\"edge25\" class=\"edge\">\n<title>24&#45;&gt;25</title>\n<path fill=\"none\" stroke=\"#000000\" d=\"M1528,-192.9465C1528,-182.2621 1528,-170.4254 1528,-159.5742\"/>\n<polygon fill=\"#000000\" stroke=\"#000000\" points=\"1531.5001,-159.5421 1528,-149.5422 1524.5001,-159.5422 1531.5001,-159.5421\"/>\n</g>\n<!-- 26 -->\n<g id=\"node27\" class=\"node\">\n<title>26</title>\n<polygon fill=\"#e5833c\" stroke=\"#000000\" points=\"1760,-157 1596,-157 1596,-89 1760,-89 1760,-157\"/>\n<text text-anchor=\"middle\" x=\"1678\" y=\"-141.8\" font-family=\"Helvetica,sans-Serif\" font-size=\"14.00\" fill=\"#000000\">혈청크레아티닌 &lt;= 0.85</text>\n<text text-anchor=\"middle\" x=\"1678\" y=\"-126.8\" font-family=\"Helvetica,sans-Serif\" font-size=\"14.00\" fill=\"#000000\">samples = 920</text>\n<text text-anchor=\"middle\" x=\"1678\" y=\"-111.8\" font-family=\"Helvetica,sans-Serif\" font-size=\"14.00\" fill=\"#000000\">value = [906, 14]</text>\n<text text-anchor=\"middle\" x=\"1678\" y=\"-96.8\" font-family=\"Helvetica,sans-Serif\" font-size=\"14.00\" fill=\"#000000\">class = 남성</text>\n</g>\n<!-- 24&#45;&gt;26 -->\n<g id=\"edge26\" class=\"edge\">\n<title>24&#45;&gt;26</title>\n<path fill=\"none\" stroke=\"#000000\" d=\"M1577.1156,-192.9465C1590.9719,-183.3395 1606.1717,-172.8009 1620.4739,-162.8848\"/>\n<polygon fill=\"#000000\" stroke=\"#000000\" points=\"1622.5503,-165.7041 1628.774,-157.13 1618.5618,-159.9515 1622.5503,-165.7041\"/>\n</g>\n<!-- 27 -->\n<g id=\"node28\" class=\"node\">\n<title>27</title>\n<polygon fill=\"#e68844\" stroke=\"#000000\" points=\"1722,-53 1598,-53 1598,0 1722,0 1722,-53\"/>\n<text text-anchor=\"middle\" x=\"1660\" y=\"-37.8\" font-family=\"Helvetica,sans-Serif\" font-size=\"14.00\" fill=\"#000000\">samples = 244</text>\n<text text-anchor=\"middle\" x=\"1660\" y=\"-22.8\" font-family=\"Helvetica,sans-Serif\" font-size=\"14.00\" fill=\"#000000\">value = [231, 13]</text>\n<text text-anchor=\"middle\" x=\"1660\" y=\"-7.8\" font-family=\"Helvetica,sans-Serif\" font-size=\"14.00\" fill=\"#000000\">class = 남성</text>\n</g>\n<!-- 26&#45;&gt;27 -->\n<g id=\"edge27\" class=\"edge\">\n<title>26&#45;&gt;27</title>\n<path fill=\"none\" stroke=\"#000000\" d=\"M1671.6539,-88.9777C1670.0996,-80.6449 1668.4293,-71.6903 1666.8524,-63.2364\"/>\n<polygon fill=\"#000000\" stroke=\"#000000\" points=\"1670.2637,-62.4371 1664.9894,-53.2485 1663.3824,-63.7207 1670.2637,-62.4371\"/>\n</g>\n<!-- 28 -->\n<g id=\"node29\" class=\"node\">\n<title>28</title>\n<polygon fill=\"#e58139\" stroke=\"#000000\" points=\"1856,-53 1740,-53 1740,0 1856,0 1856,-53\"/>\n<text text-anchor=\"middle\" x=\"1798\" y=\"-37.8\" font-family=\"Helvetica,sans-Serif\" font-size=\"14.00\" fill=\"#000000\">samples = 676</text>\n<text text-anchor=\"middle\" x=\"1798\" y=\"-22.8\" font-family=\"Helvetica,sans-Serif\" font-size=\"14.00\" fill=\"#000000\">value = [675, 1]</text>\n<text text-anchor=\"middle\" x=\"1798\" y=\"-7.8\" font-family=\"Helvetica,sans-Serif\" font-size=\"14.00\" fill=\"#000000\">class = 남성</text>\n</g>\n<!-- 26&#45;&gt;28 -->\n<g id=\"edge28\" class=\"edge\">\n<title>26&#45;&gt;28</title>\n<path fill=\"none\" stroke=\"#000000\" d=\"M1720.3075,-88.9777C1732.1499,-79.4545 1745.0021,-69.1191 1756.7805,-59.6473\"/>\n<polygon fill=\"#000000\" stroke=\"#000000\" points=\"1759.1382,-62.2427 1764.7376,-53.2485 1754.7514,-56.7877 1759.1382,-62.2427\"/>\n</g>\n</g>\n</svg>\n"
          },
          "metadata": {}
        }
      ]
    },
    {
      "cell_type": "markdown",
      "source": [
        "## **5. 분류(2)_랜덤 포레스트**\n"
      ],
      "metadata": {
        "id": "g1WZeBFNPx-4"
      }
    },
    {
      "cell_type": "markdown",
      "source": [
        "### 5-1. 나무 생성 및 정확도 확인\n",
        "\n",
        "=랜덤 포레스트가 단일 의사결정나무에 비해 매번 정확도가 높음을 확인할 수 있다."
      ],
      "metadata": {
        "id": "FW07aUSoTxIL"
      }
    },
    {
      "cell_type": "code",
      "source": [
        "from sklearn.ensemble import RandomForestClassifier\n",
        "\n",
        "forest = RandomForestClassifier(n_estimators=5, random_state=2)\n",
        "forest.fit(X_train.iloc[:, [14,19]], y_train)\n",
        "#두 가지 변수만 활용하여 랜덤포레스트 만들기: 식전혈당(공복혈당)와 혈색소 활용\n",
        "\n",
        "fig, axes = plt.subplots(2, 3, figsize=(20, 10))\n",
        "for i, (ax, tree) in enumerate(zip(axes.ravel(), forest.estimators_)):\n",
        "    ax.set_title(\"Tree {}\".format(i))\n",
        "    mglearn.plots.plot_tree_partition(X.iloc[:, [14,19]].values, y, tree, ax=ax)\n",
        "    \n",
        "mglearn.plots.plot_2d_separator(forest, X.iloc[:, [14,19]].values, fill=True, ax=axes[-1, -1], alpha=.4)\n",
        "axes[-1, -1].set_title(\"Random forest\")\n",
        "mglearn.discrete_scatter(X.iloc[:, 0], X.iloc[:, 1], y)\n",
        "plt.show()"
      ],
      "metadata": {
        "colab": {
          "base_uri": "https://localhost:8080/",
          "height": 510
        },
        "id": "PwtU-5G4Fnue",
        "outputId": "dc23f8f4-38de-4438-92c2-b647537b81b0"
      },
      "execution_count": 17,
      "outputs": [
        {
          "output_type": "stream",
          "name": "stderr",
          "text": [
            "/usr/local/lib/python3.7/dist-packages/sklearn/base.py:451: UserWarning: X does not have valid feature names, but RandomForestClassifier was fitted with feature names\n",
            "  \"X does not have valid feature names, but\"\n"
          ]
        },
        {
          "output_type": "display_data",
          "data": {
            "text/plain": [
              "<Figure size 1440x720 with 6 Axes>"
            ],
            "image/png": "[encoded data removed]"
          },
          "metadata": {}
        }
      ]
    },
    {
      "cell_type": "code",
      "source": [
        "forest = RandomForestClassifier(n_estimators=100, random_state=0)\n",
        "forest.fit(X_train, y_train)\n",
        "#전처리 이후 남은 모든 변수를 활용하여 100개의 나무를 생성함함\n",
        "\n",
        "print(\"학습용 데이터 세트 정확도: {:.3f}\".format(forest.score(X_train, y_train)))\n",
        "print(\"시험용 데이터 세트 정확도: {:.3f}\".format(forest.score(X_test, y_test)))"
      ],
      "metadata": {
        "colab": {
          "base_uri": "https://localhost:8080/"
        },
        "id": "0RD9Wmq6Gzf4",
        "outputId": "b9fec23d-c853-40c8-df5b-16a48a09b2e3"
      },
      "execution_count": 18,
      "outputs": [
        {
          "output_type": "stream",
          "name": "stdout",
          "text": [
            "학습용 데이터 세트 정확도: 1.000\n",
            "시험용 데이터 세트 정확도: 0.932\n"
          ]
        }
      ]
    },
    {
      "cell_type": "code",
      "source": [
        "from sklearn.model_selection import cross_val_score\n",
        "\n",
        "dt_scores = cross_val_score(tree, X_train, y_train, cv=10, scoring='accuracy')  \n",
        "rf_scores = cross_val_score(forest, X_train, y_train, cv=10, scoring='accuracy')\n",
        "\n",
        "print(\"Accuracy\")\n",
        "print(\"Decision tree: \", dt_scores) \n",
        "print(\"Random forest: \", rf_scores) \n",
        "\n",
        "print(\"Accuracy mean\")\n",
        "print(\"Decision tree :{:.3f}\".format(dt_scores.mean())) \n",
        "print(\"Random forest :{:.3f}\".format(rf_scores.mean())) \n",
        "\n",
        "#Random forest가 Decision tree에 비해 더 높은 정확도를 보인다.(0.938>0.869)"
      ],
      "metadata": {
        "colab": {
          "base_uri": "https://localhost:8080/"
        },
        "id": "N6YU-kLUVAdo",
        "outputId": "731967d4-9ebf-44bb-caa7-667088eabceb"
      },
      "execution_count": 19,
      "outputs": [
        {
          "output_type": "stream",
          "name": "stdout",
          "text": [
            "Accuracy\n",
            "Decision tree:  [0.86531987 0.88215488 0.86868687 0.88888889 0.87205387 0.90909091\n",
            " 0.84848485 0.85472973 0.84459459 0.85135135]\n",
            "Random forest:  [0.91582492 0.92255892 0.93939394 0.95286195 0.94612795 0.95959596\n",
            " 0.92929293 0.92905405 0.94256757 0.93918919]\n",
            "Accuracy mean\n",
            "Decision tree :0.869\n",
            "Random forest :0.938\n"
          ]
        }
      ]
    },
    {
      "cell_type": "code",
      "source": [
        "cv_list = [    \n",
        "            ['decision_tree',dt_scores],\n",
        "            ['random_forest',rf_scores],\n",
        "          ]\n",
        "df = pd.DataFrame.from_dict(dict(cv_list))\n",
        "df.plot()\n",
        "\n",
        "#그래프로 확인했을 때도 랜덤포레스트가 의사결정나무보다 언제나 더 높은 정확도를 보임을 확인할 수 있다."
      ],
      "metadata": {
        "colab": {
          "base_uri": "https://localhost:8080/",
          "height": 284
        },
        "id": "vkgewgCgUkpv",
        "outputId": "19ed7dbf-8d1b-4000-be2b-fa0767c56936"
      },
      "execution_count": 20,
      "outputs": [
        {
          "output_type": "execute_result",
          "data": {
            "text/plain": [
              "<matplotlib.axes._subplots.AxesSubplot at 0x7fd88587df10>"
            ]
          },
          "metadata": {},
          "execution_count": 20
        },
        {
          "output_type": "display_data",
          "data": {
            "text/plain": [
              "<Figure size 432x288 with 1 Axes>"
            ],
            "image/png": "[encoded data removed]"
          },
          "metadata": {
            "needs_background": "light"
          }
        }
      ]
    },
    {
      "cell_type": "markdown",
      "source": [
        "### 5-2. 중요변수 확인\n"
      ],
      "metadata": {
        "id": "dPMhONJkUamL"
      }
    },
    {
      "cell_type": "code",
      "source": [
        "from sklearn.ensemble import RandomForestClassifier\n",
        "\n",
        "model = RandomForestClassifier(random_state=11)\n",
        "model.fit(X_train, y_train)\n",
        "\n",
        "ft_importance_values = model.feature_importances_\n",
        "\n",
        "ft_series = pd.Series(ft_importance_values, index = X_train.columns)\n",
        "ft_top20 = ft_series.sort_values(ascending=False)[:20]\n",
        "\n",
        "plt.figure(figsize=(8,6))\n",
        "plt.title('Feature Importance')\n",
        "sns.barplot(x=ft_top20, y=ft_top20.index)\n",
        "plt.show()\n",
        "\n",
        "#종속변수인 성별코드를 가리는 데 신장, 혈색소, 혈청크레아티닌과 같은 순서로 영향을 크게 미친 것을 알 수 있다. "
      ],
      "metadata": {
        "colab": {
          "base_uri": "https://localhost:8080/",
          "height": 389
        },
        "id": "2hXZUc9IQcR0",
        "outputId": "22060f5f-d2a0-407e-bd75-bf0011a3a864"
      },
      "execution_count": 21,
      "outputs": [
        {
          "output_type": "display_data",
          "data": {
            "text/plain": [
              "<Figure size 576x432 with 1 Axes>"
            ],
            "image/png": "[encoded data removed]"
          },
          "metadata": {
            "needs_background": "light"
          }
        }
      ]
    },
    {
      "cell_type": "markdown",
      "source": [
        "## **6. 분류(3)_그래디언트 부스팅**\n"
      ],
      "metadata": {
        "id": "IJ5SpUrFQGyX"
      }
    },
    {
      "cell_type": "markdown",
      "source": [
        "### 6-1. 정확도 확인"
      ],
      "metadata": {
        "id": "F1DixtUsV7WA"
      }
    },
    {
      "cell_type": "code",
      "source": [
        "from sklearn.ensemble import GradientBoostingClassifier\n",
        "\n",
        "gbrt = GradientBoostingClassifier(random_state=0)\n",
        "gbrt.fit(X_train, y_train)"
      ],
      "metadata": {
        "colab": {
          "base_uri": "https://localhost:8080/"
        },
        "id": "kTThw9m_NgCk",
        "outputId": "f5f4d808-9d96-4c62-cb44-4dfc10b75022"
      },
      "execution_count": 22,
      "outputs": [
        {
          "output_type": "execute_result",
          "data": {
            "text/plain": [
              "GradientBoostingClassifier(random_state=0)"
            ]
          },
          "metadata": {},
          "execution_count": 22
        }
      ]
    },
    {
      "cell_type": "code",
      "source": [
        "print(\"학습용 데이터 세트 정확도: {:.3f}\".format(gbrt.score(X_train, y_train)))\n",
        "print(\"시험용 데이터 세트 정확도: {:.3f}\".format(gbrt.score(X_test, y_test)))"
      ],
      "metadata": {
        "colab": {
          "base_uri": "https://localhost:8080/"
        },
        "id": "bNyARdWfNisz",
        "outputId": "1a9d99eb-161c-4d1c-db42-3e6de62d36cc"
      },
      "execution_count": 23,
      "outputs": [
        {
          "output_type": "stream",
          "name": "stdout",
          "text": [
            "학습용 데이터 세트 정확도: 0.971\n",
            "시험용 데이터 세트 정확도: 0.945\n"
          ]
        }
      ]
    },
    {
      "cell_type": "code",
      "source": [
        "gbrt = GradientBoostingClassifier(random_state=0, max_depth=4)\n",
        "gbrt.fit(X_train, y_train)\n",
        "#과적합을 막기 위한 첫 번째 방법으로 나무 깊이를 4로 제한한다.\n",
        "\n",
        "print(\"학습 데이터 세트 정확도: {:.3f}\".format(gbrt.score(X_train, y_train)))\n",
        "print(\"시험용 데이터 세트 정확도: {:.3f}\".format(gbrt.score(X_test, y_test)))"
      ],
      "metadata": {
        "colab": {
          "base_uri": "https://localhost:8080/"
        },
        "id": "x6ZbrE3SVseP",
        "outputId": "c8d5dd06-9ca3-48ac-a71a-623943c81d28"
      },
      "execution_count": 24,
      "outputs": [
        {
          "output_type": "stream",
          "name": "stdout",
          "text": [
            "학습 데이터 세트 정확도: 0.986\n",
            "시험용 데이터 세트 정확도: 0.944\n"
          ]
        }
      ]
    },
    {
      "cell_type": "code",
      "source": [
        "gbrt = GradientBoostingClassifier(random_state=0, learning_rate=0.07)\n",
        "gbrt.fit(X_train, y_train)\n",
        "#과적합을 막기 위한 두 번째 방법으로 학습률을 조정한다. \n",
        "\n",
        "print(\"학습 데이터 세트 정확도: {:.3f}\".format(gbrt.score(X_train, y_train)))\n",
        "print(\"시험용 데이터 세트 정확도: {:.3f}\".format(gbrt.score(X_test, y_test)))"
      ],
      "metadata": {
        "colab": {
          "base_uri": "https://localhost:8080/"
        },
        "id": "dQHZ1y9_WHU1",
        "outputId": "93951131-d20c-4de7-bb7b-e24d483d5427"
      },
      "execution_count": 25,
      "outputs": [
        {
          "output_type": "stream",
          "name": "stdout",
          "text": [
            "학습 데이터 세트 정확도: 0.965\n",
            "시험용 데이터 세트 정확도: 0.943\n"
          ]
        }
      ]
    },
    {
      "cell_type": "markdown",
      "source": [
        "### 6-2. 중요변수 확인"
      ],
      "metadata": {
        "id": "NLQIpHhTWGw5"
      }
    },
    {
      "cell_type": "code",
      "source": [
        "from sklearn.ensemble import GradientBoostingClassifier\n",
        "\n",
        "model = GradientBoostingClassifier(random_state=11)\n",
        "model.fit(X_train, y_train)\n",
        "\n",
        "ft_importance_values = model.feature_importances_\n",
        "\n",
        "ft_series = pd.Series(ft_importance_values, index = X_train.columns)\n",
        "ft_top20 = ft_series.sort_values(ascending=False)[:20]\n",
        "\n",
        "plt.figure(figsize=(8,6))\n",
        "plt.title('Feature Importance')\n",
        "sns.barplot(x=ft_top20, y=ft_top20.index)\n",
        "plt.show()\n",
        "\n",
        "#랜덤포레스트에서 구한것과 유사한 변수별 중요도를 보인다.\n",
        "#신장, 혈색소, 혈청크레아티닌까지 랜덤포레스트에서 보인 변수 별 중요도와 동일하다."
      ],
      "metadata": {
        "colab": {
          "base_uri": "https://localhost:8080/",
          "height": 389
        },
        "id": "Qe9LnkEZVG06",
        "outputId": "8dee82a5-2003-4daa-8629-0e799710bddf"
      },
      "execution_count": 26,
      "outputs": [
        {
          "output_type": "display_data",
          "data": {
            "text/plain": [
              "<Figure size 576x432 with 1 Axes>"
            ],
            "image/png": "[encoded data removed]"
          },
          "metadata": {
            "needs_background": "light"
          }
        }
      ]
    },
    {
      "cell_type": "markdown",
      "source": [
        "## **7. 분류모델 평가_교차검증**\n",
        "\n",
        "-그래디언트 부스팅>랜덤포레스트>의사결정나무 순서로 높은 정확도를 보인다."
      ],
      "metadata": {
        "id": "nzX3mMfEZp4J"
      }
    },
    {
      "cell_type": "code",
      "source": [
        "# 교차 검증을 10번 수행하여 10번의 교차 검증 평균 정확도를 비교 (10-fold cross validation)\n",
        "# default cv=5\n",
        "\n",
        "dt_scores = cross_val_score(tree, X_train, y_train, cv=10, scoring='accuracy')  \n",
        "rf_scores = cross_val_score(forest, X_train, y_train, cv=10, scoring='accuracy')\n",
        "gbrt_scores = cross_val_score(gbrt, X_train, y_train, cv=10, scoring='accuracy')\n",
        "\n",
        "print(\"Accuracy\")\n",
        "print(\"Decision tree: \", dt_scores) \n",
        "print(\"Random forest: \", rf_scores) \n",
        "print(\"Gradient boosting: \", gbrt_scores) \n",
        "\n",
        "print(\"Accuracy mean\")\n",
        "print(\"Decision tree :{:.3f}\".format(dt_scores.mean())) \n",
        "print(\"Random forest :{:.3f}\".format(rf_scores.mean())) \n",
        "print(\"Gradient boosting :{:.3f}\".format(gbrt_scores.mean())) \n",
        "\n",
        "#그래디언트 부스팅> 랜덤포레스트> 의사결정나무 순서로 높은 정확도를 보인다. \n",
        "#따라서 health 데이터를 사용하여 성별코드를 정확하게 얻어내기 위해서는 그래디언트 부스팅 모델이 가장 적합함을 알 수 있다. "
      ],
      "metadata": {
        "colab": {
          "base_uri": "https://localhost:8080/"
        },
        "id": "vBw1CzQfZYJy",
        "outputId": "a7313d54-a0d1-4228-d5bd-02a054561701"
      },
      "execution_count": 27,
      "outputs": [
        {
          "output_type": "stream",
          "name": "stdout",
          "text": [
            "Accuracy\n",
            "Decision tree:  [0.86531987 0.88215488 0.86868687 0.88888889 0.87205387 0.90909091\n",
            " 0.84848485 0.85472973 0.84459459 0.85135135]\n",
            "Random forest:  [0.91582492 0.92255892 0.93939394 0.95286195 0.94612795 0.95959596\n",
            " 0.92929293 0.92905405 0.94256757 0.93918919]\n",
            "Gradient boosting:  [0.92929293 0.93602694 0.94276094 0.96969697 0.94949495 0.95286195\n",
            " 0.93265993 0.94932432 0.94932432 0.92905405]\n",
            "Accuracy mean\n",
            "Decision tree :0.869\n",
            "Random forest :0.938\n",
            "Gradient boosting :0.944\n"
          ]
        }
      ]
    }
  ]
}